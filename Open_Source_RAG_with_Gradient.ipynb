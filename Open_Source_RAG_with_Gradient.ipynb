{
  "nbformat": 4,
  "nbformat_minor": 0,
  "metadata": {
    "colab": {
      "provenance": [],
      "include_colab_link": true
    },
    "kernelspec": {
      "name": "python3",
      "display_name": "Python 3"
    },
    "language_info": {
      "name": "python"
    },
    "widgets": {
      "application/vnd.jupyter.widget-state+json": {
        "27dd611bfdda4d4a8f84401ee9653db9": {
          "model_module": "@jupyter-widgets/controls",
          "model_name": "HBoxModel",
          "model_module_version": "1.5.0",
          "state": {
            "_dom_classes": [],
            "_model_module": "@jupyter-widgets/controls",
            "_model_module_version": "1.5.0",
            "_model_name": "HBoxModel",
            "_view_count": null,
            "_view_module": "@jupyter-widgets/controls",
            "_view_module_version": "1.5.0",
            "_view_name": "HBoxView",
            "box_style": "",
            "children": [
              "IPY_MODEL_911487346d3543969ab7d6215fe9789c",
              "IPY_MODEL_2fe90c06403440e19192e29be8d345ee",
              "IPY_MODEL_e5d4da2b179044d6845f76245b9f58bd"
            ],
            "layout": "IPY_MODEL_78d25d02160d4f36b3827e4f1e9432de"
          }
        },
        "911487346d3543969ab7d6215fe9789c": {
          "model_module": "@jupyter-widgets/controls",
          "model_name": "HTMLModel",
          "model_module_version": "1.5.0",
          "state": {
            "_dom_classes": [],
            "_model_module": "@jupyter-widgets/controls",
            "_model_module_version": "1.5.0",
            "_model_name": "HTMLModel",
            "_view_count": null,
            "_view_module": "@jupyter-widgets/controls",
            "_view_module_version": "1.5.0",
            "_view_name": "HTMLView",
            "description": "",
            "description_tooltip": null,
            "layout": "IPY_MODEL_b2e38c8c67c2487ca12f399c2439afbe",
            "placeholder": "​",
            "style": "IPY_MODEL_4a06571bfacc4e479d618b5546fa4393",
            "value": "Map: 100%"
          }
        },
        "2fe90c06403440e19192e29be8d345ee": {
          "model_module": "@jupyter-widgets/controls",
          "model_name": "FloatProgressModel",
          "model_module_version": "1.5.0",
          "state": {
            "_dom_classes": [],
            "_model_module": "@jupyter-widgets/controls",
            "_model_module_version": "1.5.0",
            "_model_name": "FloatProgressModel",
            "_view_count": null,
            "_view_module": "@jupyter-widgets/controls",
            "_view_module_version": "1.5.0",
            "_view_name": "ProgressView",
            "bar_style": "success",
            "description": "",
            "description_tooltip": null,
            "layout": "IPY_MODEL_c3611d9f996e4ce7b765b1f0c25958e3",
            "max": 56167,
            "min": 0,
            "orientation": "horizontal",
            "style": "IPY_MODEL_e24c482cce6640dea466e707de010d6d",
            "value": 56167
          }
        },
        "e5d4da2b179044d6845f76245b9f58bd": {
          "model_module": "@jupyter-widgets/controls",
          "model_name": "HTMLModel",
          "model_module_version": "1.5.0",
          "state": {
            "_dom_classes": [],
            "_model_module": "@jupyter-widgets/controls",
            "_model_module_version": "1.5.0",
            "_model_name": "HTMLModel",
            "_view_count": null,
            "_view_module": "@jupyter-widgets/controls",
            "_view_module_version": "1.5.0",
            "_view_name": "HTMLView",
            "description": "",
            "description_tooltip": null,
            "layout": "IPY_MODEL_761269fbaa294588b1c11a60eac2ab3c",
            "placeholder": "​",
            "style": "IPY_MODEL_df453ba4109e4da48bbc1ecdbf686fa4",
            "value": " 56167/56167 [00:09&lt;00:00, 2761.77 examples/s]"
          }
        },
        "78d25d02160d4f36b3827e4f1e9432de": {
          "model_module": "@jupyter-widgets/base",
          "model_name": "LayoutModel",
          "model_module_version": "1.2.0",
          "state": {
            "_model_module": "@jupyter-widgets/base",
            "_model_module_version": "1.2.0",
            "_model_name": "LayoutModel",
            "_view_count": null,
            "_view_module": "@jupyter-widgets/base",
            "_view_module_version": "1.2.0",
            "_view_name": "LayoutView",
            "align_content": null,
            "align_items": null,
            "align_self": null,
            "border": null,
            "bottom": null,
            "display": null,
            "flex": null,
            "flex_flow": null,
            "grid_area": null,
            "grid_auto_columns": null,
            "grid_auto_flow": null,
            "grid_auto_rows": null,
            "grid_column": null,
            "grid_gap": null,
            "grid_row": null,
            "grid_template_areas": null,
            "grid_template_columns": null,
            "grid_template_rows": null,
            "height": null,
            "justify_content": null,
            "justify_items": null,
            "left": null,
            "margin": null,
            "max_height": null,
            "max_width": null,
            "min_height": null,
            "min_width": null,
            "object_fit": null,
            "object_position": null,
            "order": null,
            "overflow": null,
            "overflow_x": null,
            "overflow_y": null,
            "padding": null,
            "right": null,
            "top": null,
            "visibility": null,
            "width": null
          }
        },
        "b2e38c8c67c2487ca12f399c2439afbe": {
          "model_module": "@jupyter-widgets/base",
          "model_name": "LayoutModel",
          "model_module_version": "1.2.0",
          "state": {
            "_model_module": "@jupyter-widgets/base",
            "_model_module_version": "1.2.0",
            "_model_name": "LayoutModel",
            "_view_count": null,
            "_view_module": "@jupyter-widgets/base",
            "_view_module_version": "1.2.0",
            "_view_name": "LayoutView",
            "align_content": null,
            "align_items": null,
            "align_self": null,
            "border": null,
            "bottom": null,
            "display": null,
            "flex": null,
            "flex_flow": null,
            "grid_area": null,
            "grid_auto_columns": null,
            "grid_auto_flow": null,
            "grid_auto_rows": null,
            "grid_column": null,
            "grid_gap": null,
            "grid_row": null,
            "grid_template_areas": null,
            "grid_template_columns": null,
            "grid_template_rows": null,
            "height": null,
            "justify_content": null,
            "justify_items": null,
            "left": null,
            "margin": null,
            "max_height": null,
            "max_width": null,
            "min_height": null,
            "min_width": null,
            "object_fit": null,
            "object_position": null,
            "order": null,
            "overflow": null,
            "overflow_x": null,
            "overflow_y": null,
            "padding": null,
            "right": null,
            "top": null,
            "visibility": null,
            "width": null
          }
        },
        "4a06571bfacc4e479d618b5546fa4393": {
          "model_module": "@jupyter-widgets/controls",
          "model_name": "DescriptionStyleModel",
          "model_module_version": "1.5.0",
          "state": {
            "_model_module": "@jupyter-widgets/controls",
            "_model_module_version": "1.5.0",
            "_model_name": "DescriptionStyleModel",
            "_view_count": null,
            "_view_module": "@jupyter-widgets/base",
            "_view_module_version": "1.2.0",
            "_view_name": "StyleView",
            "description_width": ""
          }
        },
        "c3611d9f996e4ce7b765b1f0c25958e3": {
          "model_module": "@jupyter-widgets/base",
          "model_name": "LayoutModel",
          "model_module_version": "1.2.0",
          "state": {
            "_model_module": "@jupyter-widgets/base",
            "_model_module_version": "1.2.0",
            "_model_name": "LayoutModel",
            "_view_count": null,
            "_view_module": "@jupyter-widgets/base",
            "_view_module_version": "1.2.0",
            "_view_name": "LayoutView",
            "align_content": null,
            "align_items": null,
            "align_self": null,
            "border": null,
            "bottom": null,
            "display": null,
            "flex": null,
            "flex_flow": null,
            "grid_area": null,
            "grid_auto_columns": null,
            "grid_auto_flow": null,
            "grid_auto_rows": null,
            "grid_column": null,
            "grid_gap": null,
            "grid_row": null,
            "grid_template_areas": null,
            "grid_template_columns": null,
            "grid_template_rows": null,
            "height": null,
            "justify_content": null,
            "justify_items": null,
            "left": null,
            "margin": null,
            "max_height": null,
            "max_width": null,
            "min_height": null,
            "min_width": null,
            "object_fit": null,
            "object_position": null,
            "order": null,
            "overflow": null,
            "overflow_x": null,
            "overflow_y": null,
            "padding": null,
            "right": null,
            "top": null,
            "visibility": null,
            "width": null
          }
        },
        "e24c482cce6640dea466e707de010d6d": {
          "model_module": "@jupyter-widgets/controls",
          "model_name": "ProgressStyleModel",
          "model_module_version": "1.5.0",
          "state": {
            "_model_module": "@jupyter-widgets/controls",
            "_model_module_version": "1.5.0",
            "_model_name": "ProgressStyleModel",
            "_view_count": null,
            "_view_module": "@jupyter-widgets/base",
            "_view_module_version": "1.2.0",
            "_view_name": "StyleView",
            "bar_color": null,
            "description_width": ""
          }
        },
        "761269fbaa294588b1c11a60eac2ab3c": {
          "model_module": "@jupyter-widgets/base",
          "model_name": "LayoutModel",
          "model_module_version": "1.2.0",
          "state": {
            "_model_module": "@jupyter-widgets/base",
            "_model_module_version": "1.2.0",
            "_model_name": "LayoutModel",
            "_view_count": null,
            "_view_module": "@jupyter-widgets/base",
            "_view_module_version": "1.2.0",
            "_view_name": "LayoutView",
            "align_content": null,
            "align_items": null,
            "align_self": null,
            "border": null,
            "bottom": null,
            "display": null,
            "flex": null,
            "flex_flow": null,
            "grid_area": null,
            "grid_auto_columns": null,
            "grid_auto_flow": null,
            "grid_auto_rows": null,
            "grid_column": null,
            "grid_gap": null,
            "grid_row": null,
            "grid_template_areas": null,
            "grid_template_columns": null,
            "grid_template_rows": null,
            "height": null,
            "justify_content": null,
            "justify_items": null,
            "left": null,
            "margin": null,
            "max_height": null,
            "max_width": null,
            "min_height": null,
            "min_width": null,
            "object_fit": null,
            "object_position": null,
            "order": null,
            "overflow": null,
            "overflow_x": null,
            "overflow_y": null,
            "padding": null,
            "right": null,
            "top": null,
            "visibility": null,
            "width": null
          }
        },
        "df453ba4109e4da48bbc1ecdbf686fa4": {
          "model_module": "@jupyter-widgets/controls",
          "model_name": "DescriptionStyleModel",
          "model_module_version": "1.5.0",
          "state": {
            "_model_module": "@jupyter-widgets/controls",
            "_model_module_version": "1.5.0",
            "_model_name": "DescriptionStyleModel",
            "_view_count": null,
            "_view_module": "@jupyter-widgets/base",
            "_view_module_version": "1.2.0",
            "_view_name": "StyleView",
            "description_width": ""
          }
        },
        "d8d07a93065348609dcee557ce4a0b14": {
          "model_module": "@jupyter-widgets/controls",
          "model_name": "HBoxModel",
          "model_module_version": "1.5.0",
          "state": {
            "_dom_classes": [],
            "_model_module": "@jupyter-widgets/controls",
            "_model_module_version": "1.5.0",
            "_model_name": "HBoxModel",
            "_view_count": null,
            "_view_module": "@jupyter-widgets/controls",
            "_view_module_version": "1.5.0",
            "_view_name": "HBoxView",
            "box_style": "",
            "children": [
              "IPY_MODEL_9c826d91416645978242c046e4a4d107",
              "IPY_MODEL_1a8e659dd62e410db217eb373a06e6cd",
              "IPY_MODEL_03a73c6d3a504fbab3a0102a768e9c3b"
            ],
            "layout": "IPY_MODEL_e6a404be9fa742c48a2c000d3b7347eb"
          }
        },
        "9c826d91416645978242c046e4a4d107": {
          "model_module": "@jupyter-widgets/controls",
          "model_name": "HTMLModel",
          "model_module_version": "1.5.0",
          "state": {
            "_dom_classes": [],
            "_model_module": "@jupyter-widgets/controls",
            "_model_module_version": "1.5.0",
            "_model_name": "HTMLModel",
            "_view_count": null,
            "_view_module": "@jupyter-widgets/controls",
            "_view_module_version": "1.5.0",
            "_view_name": "HTMLView",
            "description": "",
            "description_tooltip": null,
            "layout": "IPY_MODEL_0dae362274fc48d1a04a0b7427a932d3",
            "placeholder": "​",
            "style": "IPY_MODEL_83cb913c669e453baa69f72640457a88",
            "value": "Map: 100%"
          }
        },
        "1a8e659dd62e410db217eb373a06e6cd": {
          "model_module": "@jupyter-widgets/controls",
          "model_name": "FloatProgressModel",
          "model_module_version": "1.5.0",
          "state": {
            "_dom_classes": [],
            "_model_module": "@jupyter-widgets/controls",
            "_model_module_version": "1.5.0",
            "_model_name": "FloatProgressModel",
            "_view_count": null,
            "_view_module": "@jupyter-widgets/controls",
            "_view_module_version": "1.5.0",
            "_view_name": "ProgressView",
            "bar_style": "success",
            "description": "",
            "description_tooltip": null,
            "layout": "IPY_MODEL_a30dbb6b49d94dfdaf2ff9d0218ac140",
            "max": 6807,
            "min": 0,
            "orientation": "horizontal",
            "style": "IPY_MODEL_596d45db4bfa4c5593482420fb3720a8",
            "value": 6807
          }
        },
        "03a73c6d3a504fbab3a0102a768e9c3b": {
          "model_module": "@jupyter-widgets/controls",
          "model_name": "HTMLModel",
          "model_module_version": "1.5.0",
          "state": {
            "_dom_classes": [],
            "_model_module": "@jupyter-widgets/controls",
            "_model_module_version": "1.5.0",
            "_model_name": "HTMLModel",
            "_view_count": null,
            "_view_module": "@jupyter-widgets/controls",
            "_view_module_version": "1.5.0",
            "_view_name": "HTMLView",
            "description": "",
            "description_tooltip": null,
            "layout": "IPY_MODEL_b21b1b347bd542d6b7977b8c2e8b0889",
            "placeholder": "​",
            "style": "IPY_MODEL_46992ed7efd640d0a82aa41fdb2ddb9f",
            "value": " 6807/6807 [00:01&lt;00:00, 5369.79 examples/s]"
          }
        },
        "e6a404be9fa742c48a2c000d3b7347eb": {
          "model_module": "@jupyter-widgets/base",
          "model_name": "LayoutModel",
          "model_module_version": "1.2.0",
          "state": {
            "_model_module": "@jupyter-widgets/base",
            "_model_module_version": "1.2.0",
            "_model_name": "LayoutModel",
            "_view_count": null,
            "_view_module": "@jupyter-widgets/base",
            "_view_module_version": "1.2.0",
            "_view_name": "LayoutView",
            "align_content": null,
            "align_items": null,
            "align_self": null,
            "border": null,
            "bottom": null,
            "display": null,
            "flex": null,
            "flex_flow": null,
            "grid_area": null,
            "grid_auto_columns": null,
            "grid_auto_flow": null,
            "grid_auto_rows": null,
            "grid_column": null,
            "grid_gap": null,
            "grid_row": null,
            "grid_template_areas": null,
            "grid_template_columns": null,
            "grid_template_rows": null,
            "height": null,
            "justify_content": null,
            "justify_items": null,
            "left": null,
            "margin": null,
            "max_height": null,
            "max_width": null,
            "min_height": null,
            "min_width": null,
            "object_fit": null,
            "object_position": null,
            "order": null,
            "overflow": null,
            "overflow_x": null,
            "overflow_y": null,
            "padding": null,
            "right": null,
            "top": null,
            "visibility": null,
            "width": null
          }
        },
        "0dae362274fc48d1a04a0b7427a932d3": {
          "model_module": "@jupyter-widgets/base",
          "model_name": "LayoutModel",
          "model_module_version": "1.2.0",
          "state": {
            "_model_module": "@jupyter-widgets/base",
            "_model_module_version": "1.2.0",
            "_model_name": "LayoutModel",
            "_view_count": null,
            "_view_module": "@jupyter-widgets/base",
            "_view_module_version": "1.2.0",
            "_view_name": "LayoutView",
            "align_content": null,
            "align_items": null,
            "align_self": null,
            "border": null,
            "bottom": null,
            "display": null,
            "flex": null,
            "flex_flow": null,
            "grid_area": null,
            "grid_auto_columns": null,
            "grid_auto_flow": null,
            "grid_auto_rows": null,
            "grid_column": null,
            "grid_gap": null,
            "grid_row": null,
            "grid_template_areas": null,
            "grid_template_columns": null,
            "grid_template_rows": null,
            "height": null,
            "justify_content": null,
            "justify_items": null,
            "left": null,
            "margin": null,
            "max_height": null,
            "max_width": null,
            "min_height": null,
            "min_width": null,
            "object_fit": null,
            "object_position": null,
            "order": null,
            "overflow": null,
            "overflow_x": null,
            "overflow_y": null,
            "padding": null,
            "right": null,
            "top": null,
            "visibility": null,
            "width": null
          }
        },
        "83cb913c669e453baa69f72640457a88": {
          "model_module": "@jupyter-widgets/controls",
          "model_name": "DescriptionStyleModel",
          "model_module_version": "1.5.0",
          "state": {
            "_model_module": "@jupyter-widgets/controls",
            "_model_module_version": "1.5.0",
            "_model_name": "DescriptionStyleModel",
            "_view_count": null,
            "_view_module": "@jupyter-widgets/base",
            "_view_module_version": "1.2.0",
            "_view_name": "StyleView",
            "description_width": ""
          }
        },
        "a30dbb6b49d94dfdaf2ff9d0218ac140": {
          "model_module": "@jupyter-widgets/base",
          "model_name": "LayoutModel",
          "model_module_version": "1.2.0",
          "state": {
            "_model_module": "@jupyter-widgets/base",
            "_model_module_version": "1.2.0",
            "_model_name": "LayoutModel",
            "_view_count": null,
            "_view_module": "@jupyter-widgets/base",
            "_view_module_version": "1.2.0",
            "_view_name": "LayoutView",
            "align_content": null,
            "align_items": null,
            "align_self": null,
            "border": null,
            "bottom": null,
            "display": null,
            "flex": null,
            "flex_flow": null,
            "grid_area": null,
            "grid_auto_columns": null,
            "grid_auto_flow": null,
            "grid_auto_rows": null,
            "grid_column": null,
            "grid_gap": null,
            "grid_row": null,
            "grid_template_areas": null,
            "grid_template_columns": null,
            "grid_template_rows": null,
            "height": null,
            "justify_content": null,
            "justify_items": null,
            "left": null,
            "margin": null,
            "max_height": null,
            "max_width": null,
            "min_height": null,
            "min_width": null,
            "object_fit": null,
            "object_position": null,
            "order": null,
            "overflow": null,
            "overflow_x": null,
            "overflow_y": null,
            "padding": null,
            "right": null,
            "top": null,
            "visibility": null,
            "width": null
          }
        },
        "596d45db4bfa4c5593482420fb3720a8": {
          "model_module": "@jupyter-widgets/controls",
          "model_name": "ProgressStyleModel",
          "model_module_version": "1.5.0",
          "state": {
            "_model_module": "@jupyter-widgets/controls",
            "_model_module_version": "1.5.0",
            "_model_name": "ProgressStyleModel",
            "_view_count": null,
            "_view_module": "@jupyter-widgets/base",
            "_view_module_version": "1.2.0",
            "_view_name": "StyleView",
            "bar_color": null,
            "description_width": ""
          }
        },
        "b21b1b347bd542d6b7977b8c2e8b0889": {
          "model_module": "@jupyter-widgets/base",
          "model_name": "LayoutModel",
          "model_module_version": "1.2.0",
          "state": {
            "_model_module": "@jupyter-widgets/base",
            "_model_module_version": "1.2.0",
            "_model_name": "LayoutModel",
            "_view_count": null,
            "_view_module": "@jupyter-widgets/base",
            "_view_module_version": "1.2.0",
            "_view_name": "LayoutView",
            "align_content": null,
            "align_items": null,
            "align_self": null,
            "border": null,
            "bottom": null,
            "display": null,
            "flex": null,
            "flex_flow": null,
            "grid_area": null,
            "grid_auto_columns": null,
            "grid_auto_flow": null,
            "grid_auto_rows": null,
            "grid_column": null,
            "grid_gap": null,
            "grid_row": null,
            "grid_template_areas": null,
            "grid_template_columns": null,
            "grid_template_rows": null,
            "height": null,
            "justify_content": null,
            "justify_items": null,
            "left": null,
            "margin": null,
            "max_height": null,
            "max_width": null,
            "min_height": null,
            "min_width": null,
            "object_fit": null,
            "object_position": null,
            "order": null,
            "overflow": null,
            "overflow_x": null,
            "overflow_y": null,
            "padding": null,
            "right": null,
            "top": null,
            "visibility": null,
            "width": null
          }
        },
        "46992ed7efd640d0a82aa41fdb2ddb9f": {
          "model_module": "@jupyter-widgets/controls",
          "model_name": "DescriptionStyleModel",
          "model_module_version": "1.5.0",
          "state": {
            "_model_module": "@jupyter-widgets/controls",
            "_model_module_version": "1.5.0",
            "_model_name": "DescriptionStyleModel",
            "_view_count": null,
            "_view_module": "@jupyter-widgets/base",
            "_view_module_version": "1.2.0",
            "_view_name": "StyleView",
            "description_width": ""
          }
        },
        "3cf496b68ae648b38248ba95d0aafaf4": {
          "model_module": "@jupyter-widgets/controls",
          "model_name": "HBoxModel",
          "model_module_version": "1.5.0",
          "state": {
            "_dom_classes": [],
            "_model_module": "@jupyter-widgets/controls",
            "_model_module_version": "1.5.0",
            "_model_name": "HBoxModel",
            "_view_count": null,
            "_view_module": "@jupyter-widgets/controls",
            "_view_module_version": "1.5.0",
            "_view_name": "HBoxView",
            "box_style": "",
            "children": [
              "IPY_MODEL_d801c1ca95a34b4b976ce566af8b1433",
              "IPY_MODEL_fed0973b331642dcbadeb0b3e49979f3",
              "IPY_MODEL_ec6c65395ccd447aa881cc0108eefd12"
            ],
            "layout": "IPY_MODEL_4af47a1aef914a41b12d84483e66e1e9"
          }
        },
        "d801c1ca95a34b4b976ce566af8b1433": {
          "model_module": "@jupyter-widgets/controls",
          "model_name": "HTMLModel",
          "model_module_version": "1.5.0",
          "state": {
            "_dom_classes": [],
            "_model_module": "@jupyter-widgets/controls",
            "_model_module_version": "1.5.0",
            "_model_name": "HTMLModel",
            "_view_count": null,
            "_view_module": "@jupyter-widgets/controls",
            "_view_module_version": "1.5.0",
            "_view_name": "HTMLView",
            "description": "",
            "description_tooltip": null,
            "layout": "IPY_MODEL_71bc430720b94fda886d0f72ba0f0bfd",
            "placeholder": "​",
            "style": "IPY_MODEL_006d98e986554323a95200c36b021577",
            "value": "Filter: 100%"
          }
        },
        "fed0973b331642dcbadeb0b3e49979f3": {
          "model_module": "@jupyter-widgets/controls",
          "model_name": "FloatProgressModel",
          "model_module_version": "1.5.0",
          "state": {
            "_dom_classes": [],
            "_model_module": "@jupyter-widgets/controls",
            "_model_module_version": "1.5.0",
            "_model_name": "FloatProgressModel",
            "_view_count": null,
            "_view_module": "@jupyter-widgets/controls",
            "_view_module_version": "1.5.0",
            "_view_name": "ProgressView",
            "bar_style": "success",
            "description": "",
            "description_tooltip": null,
            "layout": "IPY_MODEL_3692f2e8b35746e693e9770672de28a0",
            "max": 56167,
            "min": 0,
            "orientation": "horizontal",
            "style": "IPY_MODEL_46af1ced43e942fd8302162bb0ca021c",
            "value": 56167
          }
        },
        "ec6c65395ccd447aa881cc0108eefd12": {
          "model_module": "@jupyter-widgets/controls",
          "model_name": "HTMLModel",
          "model_module_version": "1.5.0",
          "state": {
            "_dom_classes": [],
            "_model_module": "@jupyter-widgets/controls",
            "_model_module_version": "1.5.0",
            "_model_name": "HTMLModel",
            "_view_count": null,
            "_view_module": "@jupyter-widgets/controls",
            "_view_module_version": "1.5.0",
            "_view_name": "HTMLView",
            "description": "",
            "description_tooltip": null,
            "layout": "IPY_MODEL_366c999c4e5348969bb9204ad6522ec1",
            "placeholder": "​",
            "style": "IPY_MODEL_5461d33185ad48868dd26f65fc2b8843",
            "value": " 56167/56167 [00:00&lt;00:00, 63928.25 examples/s]"
          }
        },
        "4af47a1aef914a41b12d84483e66e1e9": {
          "model_module": "@jupyter-widgets/base",
          "model_name": "LayoutModel",
          "model_module_version": "1.2.0",
          "state": {
            "_model_module": "@jupyter-widgets/base",
            "_model_module_version": "1.2.0",
            "_model_name": "LayoutModel",
            "_view_count": null,
            "_view_module": "@jupyter-widgets/base",
            "_view_module_version": "1.2.0",
            "_view_name": "LayoutView",
            "align_content": null,
            "align_items": null,
            "align_self": null,
            "border": null,
            "bottom": null,
            "display": null,
            "flex": null,
            "flex_flow": null,
            "grid_area": null,
            "grid_auto_columns": null,
            "grid_auto_flow": null,
            "grid_auto_rows": null,
            "grid_column": null,
            "grid_gap": null,
            "grid_row": null,
            "grid_template_areas": null,
            "grid_template_columns": null,
            "grid_template_rows": null,
            "height": null,
            "justify_content": null,
            "justify_items": null,
            "left": null,
            "margin": null,
            "max_height": null,
            "max_width": null,
            "min_height": null,
            "min_width": null,
            "object_fit": null,
            "object_position": null,
            "order": null,
            "overflow": null,
            "overflow_x": null,
            "overflow_y": null,
            "padding": null,
            "right": null,
            "top": null,
            "visibility": null,
            "width": null
          }
        },
        "71bc430720b94fda886d0f72ba0f0bfd": {
          "model_module": "@jupyter-widgets/base",
          "model_name": "LayoutModel",
          "model_module_version": "1.2.0",
          "state": {
            "_model_module": "@jupyter-widgets/base",
            "_model_module_version": "1.2.0",
            "_model_name": "LayoutModel",
            "_view_count": null,
            "_view_module": "@jupyter-widgets/base",
            "_view_module_version": "1.2.0",
            "_view_name": "LayoutView",
            "align_content": null,
            "align_items": null,
            "align_self": null,
            "border": null,
            "bottom": null,
            "display": null,
            "flex": null,
            "flex_flow": null,
            "grid_area": null,
            "grid_auto_columns": null,
            "grid_auto_flow": null,
            "grid_auto_rows": null,
            "grid_column": null,
            "grid_gap": null,
            "grid_row": null,
            "grid_template_areas": null,
            "grid_template_columns": null,
            "grid_template_rows": null,
            "height": null,
            "justify_content": null,
            "justify_items": null,
            "left": null,
            "margin": null,
            "max_height": null,
            "max_width": null,
            "min_height": null,
            "min_width": null,
            "object_fit": null,
            "object_position": null,
            "order": null,
            "overflow": null,
            "overflow_x": null,
            "overflow_y": null,
            "padding": null,
            "right": null,
            "top": null,
            "visibility": null,
            "width": null
          }
        },
        "006d98e986554323a95200c36b021577": {
          "model_module": "@jupyter-widgets/controls",
          "model_name": "DescriptionStyleModel",
          "model_module_version": "1.5.0",
          "state": {
            "_model_module": "@jupyter-widgets/controls",
            "_model_module_version": "1.5.0",
            "_model_name": "DescriptionStyleModel",
            "_view_count": null,
            "_view_module": "@jupyter-widgets/base",
            "_view_module_version": "1.2.0",
            "_view_name": "StyleView",
            "description_width": ""
          }
        },
        "3692f2e8b35746e693e9770672de28a0": {
          "model_module": "@jupyter-widgets/base",
          "model_name": "LayoutModel",
          "model_module_version": "1.2.0",
          "state": {
            "_model_module": "@jupyter-widgets/base",
            "_model_module_version": "1.2.0",
            "_model_name": "LayoutModel",
            "_view_count": null,
            "_view_module": "@jupyter-widgets/base",
            "_view_module_version": "1.2.0",
            "_view_name": "LayoutView",
            "align_content": null,
            "align_items": null,
            "align_self": null,
            "border": null,
            "bottom": null,
            "display": null,
            "flex": null,
            "flex_flow": null,
            "grid_area": null,
            "grid_auto_columns": null,
            "grid_auto_flow": null,
            "grid_auto_rows": null,
            "grid_column": null,
            "grid_gap": null,
            "grid_row": null,
            "grid_template_areas": null,
            "grid_template_columns": null,
            "grid_template_rows": null,
            "height": null,
            "justify_content": null,
            "justify_items": null,
            "left": null,
            "margin": null,
            "max_height": null,
            "max_width": null,
            "min_height": null,
            "min_width": null,
            "object_fit": null,
            "object_position": null,
            "order": null,
            "overflow": null,
            "overflow_x": null,
            "overflow_y": null,
            "padding": null,
            "right": null,
            "top": null,
            "visibility": null,
            "width": null
          }
        },
        "46af1ced43e942fd8302162bb0ca021c": {
          "model_module": "@jupyter-widgets/controls",
          "model_name": "ProgressStyleModel",
          "model_module_version": "1.5.0",
          "state": {
            "_model_module": "@jupyter-widgets/controls",
            "_model_module_version": "1.5.0",
            "_model_name": "ProgressStyleModel",
            "_view_count": null,
            "_view_module": "@jupyter-widgets/base",
            "_view_module_version": "1.2.0",
            "_view_name": "StyleView",
            "bar_color": null,
            "description_width": ""
          }
        },
        "366c999c4e5348969bb9204ad6522ec1": {
          "model_module": "@jupyter-widgets/base",
          "model_name": "LayoutModel",
          "model_module_version": "1.2.0",
          "state": {
            "_model_module": "@jupyter-widgets/base",
            "_model_module_version": "1.2.0",
            "_model_name": "LayoutModel",
            "_view_count": null,
            "_view_module": "@jupyter-widgets/base",
            "_view_module_version": "1.2.0",
            "_view_name": "LayoutView",
            "align_content": null,
            "align_items": null,
            "align_self": null,
            "border": null,
            "bottom": null,
            "display": null,
            "flex": null,
            "flex_flow": null,
            "grid_area": null,
            "grid_auto_columns": null,
            "grid_auto_flow": null,
            "grid_auto_rows": null,
            "grid_column": null,
            "grid_gap": null,
            "grid_row": null,
            "grid_template_areas": null,
            "grid_template_columns": null,
            "grid_template_rows": null,
            "height": null,
            "justify_content": null,
            "justify_items": null,
            "left": null,
            "margin": null,
            "max_height": null,
            "max_width": null,
            "min_height": null,
            "min_width": null,
            "object_fit": null,
            "object_position": null,
            "order": null,
            "overflow": null,
            "overflow_x": null,
            "overflow_y": null,
            "padding": null,
            "right": null,
            "top": null,
            "visibility": null,
            "width": null
          }
        },
        "5461d33185ad48868dd26f65fc2b8843": {
          "model_module": "@jupyter-widgets/controls",
          "model_name": "DescriptionStyleModel",
          "model_module_version": "1.5.0",
          "state": {
            "_model_module": "@jupyter-widgets/controls",
            "_model_module_version": "1.5.0",
            "_model_name": "DescriptionStyleModel",
            "_view_count": null,
            "_view_module": "@jupyter-widgets/base",
            "_view_module_version": "1.2.0",
            "_view_name": "StyleView",
            "description_width": ""
          }
        },
        "43a85238bf524fea873b9b49a9e582d9": {
          "model_module": "@jupyter-widgets/controls",
          "model_name": "HBoxModel",
          "model_module_version": "1.5.0",
          "state": {
            "_dom_classes": [],
            "_model_module": "@jupyter-widgets/controls",
            "_model_module_version": "1.5.0",
            "_model_name": "HBoxModel",
            "_view_count": null,
            "_view_module": "@jupyter-widgets/controls",
            "_view_module_version": "1.5.0",
            "_view_name": "HBoxView",
            "box_style": "",
            "children": [
              "IPY_MODEL_a96b8dd9e71a443894cef02be2620936",
              "IPY_MODEL_0a82ea0e321346d7988815109f419d22",
              "IPY_MODEL_c11a9bbd073d4308a869fb1108d9960b"
            ],
            "layout": "IPY_MODEL_92886e9cdcb64a478dabcffc227d134d"
          }
        },
        "a96b8dd9e71a443894cef02be2620936": {
          "model_module": "@jupyter-widgets/controls",
          "model_name": "HTMLModel",
          "model_module_version": "1.5.0",
          "state": {
            "_dom_classes": [],
            "_model_module": "@jupyter-widgets/controls",
            "_model_module_version": "1.5.0",
            "_model_name": "HTMLModel",
            "_view_count": null,
            "_view_module": "@jupyter-widgets/controls",
            "_view_module_version": "1.5.0",
            "_view_name": "HTMLView",
            "description": "",
            "description_tooltip": null,
            "layout": "IPY_MODEL_260050f5682848279157b74578a398d0",
            "placeholder": "​",
            "style": "IPY_MODEL_0fc32204033d4a219240a8ac9e85cd95",
            "value": "Filter: 100%"
          }
        },
        "0a82ea0e321346d7988815109f419d22": {
          "model_module": "@jupyter-widgets/controls",
          "model_name": "FloatProgressModel",
          "model_module_version": "1.5.0",
          "state": {
            "_dom_classes": [],
            "_model_module": "@jupyter-widgets/controls",
            "_model_module_version": "1.5.0",
            "_model_name": "FloatProgressModel",
            "_view_count": null,
            "_view_module": "@jupyter-widgets/controls",
            "_view_module_version": "1.5.0",
            "_view_name": "ProgressView",
            "bar_style": "success",
            "description": "",
            "description_tooltip": null,
            "layout": "IPY_MODEL_67bd2df378a44102a8e07be4a237d53a",
            "max": 6807,
            "min": 0,
            "orientation": "horizontal",
            "style": "IPY_MODEL_51b79591f63148fcb53f755f1319bab6",
            "value": 6807
          }
        },
        "c11a9bbd073d4308a869fb1108d9960b": {
          "model_module": "@jupyter-widgets/controls",
          "model_name": "HTMLModel",
          "model_module_version": "1.5.0",
          "state": {
            "_dom_classes": [],
            "_model_module": "@jupyter-widgets/controls",
            "_model_module_version": "1.5.0",
            "_model_name": "HTMLModel",
            "_view_count": null,
            "_view_module": "@jupyter-widgets/controls",
            "_view_module_version": "1.5.0",
            "_view_name": "HTMLView",
            "description": "",
            "description_tooltip": null,
            "layout": "IPY_MODEL_69a0399a471147f388179f33b4a2de9c",
            "placeholder": "​",
            "style": "IPY_MODEL_4dff699a469d49f5b9e69450dece0fff",
            "value": " 6807/6807 [00:00&lt;00:00, 53239.77 examples/s]"
          }
        },
        "92886e9cdcb64a478dabcffc227d134d": {
          "model_module": "@jupyter-widgets/base",
          "model_name": "LayoutModel",
          "model_module_version": "1.2.0",
          "state": {
            "_model_module": "@jupyter-widgets/base",
            "_model_module_version": "1.2.0",
            "_model_name": "LayoutModel",
            "_view_count": null,
            "_view_module": "@jupyter-widgets/base",
            "_view_module_version": "1.2.0",
            "_view_name": "LayoutView",
            "align_content": null,
            "align_items": null,
            "align_self": null,
            "border": null,
            "bottom": null,
            "display": null,
            "flex": null,
            "flex_flow": null,
            "grid_area": null,
            "grid_auto_columns": null,
            "grid_auto_flow": null,
            "grid_auto_rows": null,
            "grid_column": null,
            "grid_gap": null,
            "grid_row": null,
            "grid_template_areas": null,
            "grid_template_columns": null,
            "grid_template_rows": null,
            "height": null,
            "justify_content": null,
            "justify_items": null,
            "left": null,
            "margin": null,
            "max_height": null,
            "max_width": null,
            "min_height": null,
            "min_width": null,
            "object_fit": null,
            "object_position": null,
            "order": null,
            "overflow": null,
            "overflow_x": null,
            "overflow_y": null,
            "padding": null,
            "right": null,
            "top": null,
            "visibility": null,
            "width": null
          }
        },
        "260050f5682848279157b74578a398d0": {
          "model_module": "@jupyter-widgets/base",
          "model_name": "LayoutModel",
          "model_module_version": "1.2.0",
          "state": {
            "_model_module": "@jupyter-widgets/base",
            "_model_module_version": "1.2.0",
            "_model_name": "LayoutModel",
            "_view_count": null,
            "_view_module": "@jupyter-widgets/base",
            "_view_module_version": "1.2.0",
            "_view_name": "LayoutView",
            "align_content": null,
            "align_items": null,
            "align_self": null,
            "border": null,
            "bottom": null,
            "display": null,
            "flex": null,
            "flex_flow": null,
            "grid_area": null,
            "grid_auto_columns": null,
            "grid_auto_flow": null,
            "grid_auto_rows": null,
            "grid_column": null,
            "grid_gap": null,
            "grid_row": null,
            "grid_template_areas": null,
            "grid_template_columns": null,
            "grid_template_rows": null,
            "height": null,
            "justify_content": null,
            "justify_items": null,
            "left": null,
            "margin": null,
            "max_height": null,
            "max_width": null,
            "min_height": null,
            "min_width": null,
            "object_fit": null,
            "object_position": null,
            "order": null,
            "overflow": null,
            "overflow_x": null,
            "overflow_y": null,
            "padding": null,
            "right": null,
            "top": null,
            "visibility": null,
            "width": null
          }
        },
        "0fc32204033d4a219240a8ac9e85cd95": {
          "model_module": "@jupyter-widgets/controls",
          "model_name": "DescriptionStyleModel",
          "model_module_version": "1.5.0",
          "state": {
            "_model_module": "@jupyter-widgets/controls",
            "_model_module_version": "1.5.0",
            "_model_name": "DescriptionStyleModel",
            "_view_count": null,
            "_view_module": "@jupyter-widgets/base",
            "_view_module_version": "1.2.0",
            "_view_name": "StyleView",
            "description_width": ""
          }
        },
        "67bd2df378a44102a8e07be4a237d53a": {
          "model_module": "@jupyter-widgets/base",
          "model_name": "LayoutModel",
          "model_module_version": "1.2.0",
          "state": {
            "_model_module": "@jupyter-widgets/base",
            "_model_module_version": "1.2.0",
            "_model_name": "LayoutModel",
            "_view_count": null,
            "_view_module": "@jupyter-widgets/base",
            "_view_module_version": "1.2.0",
            "_view_name": "LayoutView",
            "align_content": null,
            "align_items": null,
            "align_self": null,
            "border": null,
            "bottom": null,
            "display": null,
            "flex": null,
            "flex_flow": null,
            "grid_area": null,
            "grid_auto_columns": null,
            "grid_auto_flow": null,
            "grid_auto_rows": null,
            "grid_column": null,
            "grid_gap": null,
            "grid_row": null,
            "grid_template_areas": null,
            "grid_template_columns": null,
            "grid_template_rows": null,
            "height": null,
            "justify_content": null,
            "justify_items": null,
            "left": null,
            "margin": null,
            "max_height": null,
            "max_width": null,
            "min_height": null,
            "min_width": null,
            "object_fit": null,
            "object_position": null,
            "order": null,
            "overflow": null,
            "overflow_x": null,
            "overflow_y": null,
            "padding": null,
            "right": null,
            "top": null,
            "visibility": null,
            "width": null
          }
        },
        "51b79591f63148fcb53f755f1319bab6": {
          "model_module": "@jupyter-widgets/controls",
          "model_name": "ProgressStyleModel",
          "model_module_version": "1.5.0",
          "state": {
            "_model_module": "@jupyter-widgets/controls",
            "_model_module_version": "1.5.0",
            "_model_name": "ProgressStyleModel",
            "_view_count": null,
            "_view_module": "@jupyter-widgets/base",
            "_view_module_version": "1.2.0",
            "_view_name": "StyleView",
            "bar_color": null,
            "description_width": ""
          }
        },
        "69a0399a471147f388179f33b4a2de9c": {
          "model_module": "@jupyter-widgets/base",
          "model_name": "LayoutModel",
          "model_module_version": "1.2.0",
          "state": {
            "_model_module": "@jupyter-widgets/base",
            "_model_module_version": "1.2.0",
            "_model_name": "LayoutModel",
            "_view_count": null,
            "_view_module": "@jupyter-widgets/base",
            "_view_module_version": "1.2.0",
            "_view_name": "LayoutView",
            "align_content": null,
            "align_items": null,
            "align_self": null,
            "border": null,
            "bottom": null,
            "display": null,
            "flex": null,
            "flex_flow": null,
            "grid_area": null,
            "grid_auto_columns": null,
            "grid_auto_flow": null,
            "grid_auto_rows": null,
            "grid_column": null,
            "grid_gap": null,
            "grid_row": null,
            "grid_template_areas": null,
            "grid_template_columns": null,
            "grid_template_rows": null,
            "height": null,
            "justify_content": null,
            "justify_items": null,
            "left": null,
            "margin": null,
            "max_height": null,
            "max_width": null,
            "min_height": null,
            "min_width": null,
            "object_fit": null,
            "object_position": null,
            "order": null,
            "overflow": null,
            "overflow_x": null,
            "overflow_y": null,
            "padding": null,
            "right": null,
            "top": null,
            "visibility": null,
            "width": null
          }
        },
        "4dff699a469d49f5b9e69450dece0fff": {
          "model_module": "@jupyter-widgets/controls",
          "model_name": "DescriptionStyleModel",
          "model_module_version": "1.5.0",
          "state": {
            "_model_module": "@jupyter-widgets/controls",
            "_model_module_version": "1.5.0",
            "_model_name": "DescriptionStyleModel",
            "_view_count": null,
            "_view_module": "@jupyter-widgets/base",
            "_view_module_version": "1.2.0",
            "_view_name": "StyleView",
            "description_width": ""
          }
        },
        "2ba1c436f48e4306a34ec5b6ccf92411": {
          "model_module": "@jupyter-widgets/controls",
          "model_name": "HBoxModel",
          "model_module_version": "1.5.0",
          "state": {
            "_dom_classes": [],
            "_model_module": "@jupyter-widgets/controls",
            "_model_module_version": "1.5.0",
            "_model_name": "HBoxModel",
            "_view_count": null,
            "_view_module": "@jupyter-widgets/controls",
            "_view_module_version": "1.5.0",
            "_view_name": "HBoxView",
            "box_style": "",
            "children": [
              "IPY_MODEL_1ec6b55c23d4479d96a53e7521a3688f",
              "IPY_MODEL_afd8cbb164b9445586d4452af87ba26b",
              "IPY_MODEL_5c9fd7f1dbc54878b4ba3afceca37fad"
            ],
            "layout": "IPY_MODEL_3a07421ddb7a45ed8d2da8c24f896627"
          }
        },
        "1ec6b55c23d4479d96a53e7521a3688f": {
          "model_module": "@jupyter-widgets/controls",
          "model_name": "HTMLModel",
          "model_module_version": "1.5.0",
          "state": {
            "_dom_classes": [],
            "_model_module": "@jupyter-widgets/controls",
            "_model_module_version": "1.5.0",
            "_model_name": "HTMLModel",
            "_view_count": null,
            "_view_module": "@jupyter-widgets/controls",
            "_view_module_version": "1.5.0",
            "_view_name": "HTMLView",
            "description": "",
            "description_tooltip": null,
            "layout": "IPY_MODEL_b65f3916c88f43ffbaf5577fbc296773",
            "placeholder": "​",
            "style": "IPY_MODEL_27a67f75bcbb43128972dace9ed5ccfe",
            "value": "Creating json from Arrow format: 100%"
          }
        },
        "afd8cbb164b9445586d4452af87ba26b": {
          "model_module": "@jupyter-widgets/controls",
          "model_name": "FloatProgressModel",
          "model_module_version": "1.5.0",
          "state": {
            "_dom_classes": [],
            "_model_module": "@jupyter-widgets/controls",
            "_model_module_version": "1.5.0",
            "_model_name": "FloatProgressModel",
            "_view_count": null,
            "_view_module": "@jupyter-widgets/controls",
            "_view_module_version": "1.5.0",
            "_view_name": "ProgressView",
            "bar_style": "success",
            "description": "",
            "description_tooltip": null,
            "layout": "IPY_MODEL_143d7284356b4d52bfea5975d91cecf8",
            "max": 41,
            "min": 0,
            "orientation": "horizontal",
            "style": "IPY_MODEL_f1f4dbd1cbdf4e2aaa1d2e77298a3e88",
            "value": 41
          }
        },
        "5c9fd7f1dbc54878b4ba3afceca37fad": {
          "model_module": "@jupyter-widgets/controls",
          "model_name": "HTMLModel",
          "model_module_version": "1.5.0",
          "state": {
            "_dom_classes": [],
            "_model_module": "@jupyter-widgets/controls",
            "_model_module_version": "1.5.0",
            "_model_name": "HTMLModel",
            "_view_count": null,
            "_view_module": "@jupyter-widgets/controls",
            "_view_module_version": "1.5.0",
            "_view_name": "HTMLView",
            "description": "",
            "description_tooltip": null,
            "layout": "IPY_MODEL_33fcd043dc9b423cb9a05dfa4f8ffbcb",
            "placeholder": "​",
            "style": "IPY_MODEL_35401e3d02a044439df5af2b4a0a8673",
            "value": " 41/41 [00:01&lt;00:00, 37.90ba/s]"
          }
        },
        "3a07421ddb7a45ed8d2da8c24f896627": {
          "model_module": "@jupyter-widgets/base",
          "model_name": "LayoutModel",
          "model_module_version": "1.2.0",
          "state": {
            "_model_module": "@jupyter-widgets/base",
            "_model_module_version": "1.2.0",
            "_model_name": "LayoutModel",
            "_view_count": null,
            "_view_module": "@jupyter-widgets/base",
            "_view_module_version": "1.2.0",
            "_view_name": "LayoutView",
            "align_content": null,
            "align_items": null,
            "align_self": null,
            "border": null,
            "bottom": null,
            "display": null,
            "flex": null,
            "flex_flow": null,
            "grid_area": null,
            "grid_auto_columns": null,
            "grid_auto_flow": null,
            "grid_auto_rows": null,
            "grid_column": null,
            "grid_gap": null,
            "grid_row": null,
            "grid_template_areas": null,
            "grid_template_columns": null,
            "grid_template_rows": null,
            "height": null,
            "justify_content": null,
            "justify_items": null,
            "left": null,
            "margin": null,
            "max_height": null,
            "max_width": null,
            "min_height": null,
            "min_width": null,
            "object_fit": null,
            "object_position": null,
            "order": null,
            "overflow": null,
            "overflow_x": null,
            "overflow_y": null,
            "padding": null,
            "right": null,
            "top": null,
            "visibility": null,
            "width": null
          }
        },
        "b65f3916c88f43ffbaf5577fbc296773": {
          "model_module": "@jupyter-widgets/base",
          "model_name": "LayoutModel",
          "model_module_version": "1.2.0",
          "state": {
            "_model_module": "@jupyter-widgets/base",
            "_model_module_version": "1.2.0",
            "_model_name": "LayoutModel",
            "_view_count": null,
            "_view_module": "@jupyter-widgets/base",
            "_view_module_version": "1.2.0",
            "_view_name": "LayoutView",
            "align_content": null,
            "align_items": null,
            "align_self": null,
            "border": null,
            "bottom": null,
            "display": null,
            "flex": null,
            "flex_flow": null,
            "grid_area": null,
            "grid_auto_columns": null,
            "grid_auto_flow": null,
            "grid_auto_rows": null,
            "grid_column": null,
            "grid_gap": null,
            "grid_row": null,
            "grid_template_areas": null,
            "grid_template_columns": null,
            "grid_template_rows": null,
            "height": null,
            "justify_content": null,
            "justify_items": null,
            "left": null,
            "margin": null,
            "max_height": null,
            "max_width": null,
            "min_height": null,
            "min_width": null,
            "object_fit": null,
            "object_position": null,
            "order": null,
            "overflow": null,
            "overflow_x": null,
            "overflow_y": null,
            "padding": null,
            "right": null,
            "top": null,
            "visibility": null,
            "width": null
          }
        },
        "27a67f75bcbb43128972dace9ed5ccfe": {
          "model_module": "@jupyter-widgets/controls",
          "model_name": "DescriptionStyleModel",
          "model_module_version": "1.5.0",
          "state": {
            "_model_module": "@jupyter-widgets/controls",
            "_model_module_version": "1.5.0",
            "_model_name": "DescriptionStyleModel",
            "_view_count": null,
            "_view_module": "@jupyter-widgets/base",
            "_view_module_version": "1.2.0",
            "_view_name": "StyleView",
            "description_width": ""
          }
        },
        "143d7284356b4d52bfea5975d91cecf8": {
          "model_module": "@jupyter-widgets/base",
          "model_name": "LayoutModel",
          "model_module_version": "1.2.0",
          "state": {
            "_model_module": "@jupyter-widgets/base",
            "_model_module_version": "1.2.0",
            "_model_name": "LayoutModel",
            "_view_count": null,
            "_view_module": "@jupyter-widgets/base",
            "_view_module_version": "1.2.0",
            "_view_name": "LayoutView",
            "align_content": null,
            "align_items": null,
            "align_self": null,
            "border": null,
            "bottom": null,
            "display": null,
            "flex": null,
            "flex_flow": null,
            "grid_area": null,
            "grid_auto_columns": null,
            "grid_auto_flow": null,
            "grid_auto_rows": null,
            "grid_column": null,
            "grid_gap": null,
            "grid_row": null,
            "grid_template_areas": null,
            "grid_template_columns": null,
            "grid_template_rows": null,
            "height": null,
            "justify_content": null,
            "justify_items": null,
            "left": null,
            "margin": null,
            "max_height": null,
            "max_width": null,
            "min_height": null,
            "min_width": null,
            "object_fit": null,
            "object_position": null,
            "order": null,
            "overflow": null,
            "overflow_x": null,
            "overflow_y": null,
            "padding": null,
            "right": null,
            "top": null,
            "visibility": null,
            "width": null
          }
        },
        "f1f4dbd1cbdf4e2aaa1d2e77298a3e88": {
          "model_module": "@jupyter-widgets/controls",
          "model_name": "ProgressStyleModel",
          "model_module_version": "1.5.0",
          "state": {
            "_model_module": "@jupyter-widgets/controls",
            "_model_module_version": "1.5.0",
            "_model_name": "ProgressStyleModel",
            "_view_count": null,
            "_view_module": "@jupyter-widgets/base",
            "_view_module_version": "1.2.0",
            "_view_name": "StyleView",
            "bar_color": null,
            "description_width": ""
          }
        },
        "33fcd043dc9b423cb9a05dfa4f8ffbcb": {
          "model_module": "@jupyter-widgets/base",
          "model_name": "LayoutModel",
          "model_module_version": "1.2.0",
          "state": {
            "_model_module": "@jupyter-widgets/base",
            "_model_module_version": "1.2.0",
            "_model_name": "LayoutModel",
            "_view_count": null,
            "_view_module": "@jupyter-widgets/base",
            "_view_module_version": "1.2.0",
            "_view_name": "LayoutView",
            "align_content": null,
            "align_items": null,
            "align_self": null,
            "border": null,
            "bottom": null,
            "display": null,
            "flex": null,
            "flex_flow": null,
            "grid_area": null,
            "grid_auto_columns": null,
            "grid_auto_flow": null,
            "grid_auto_rows": null,
            "grid_column": null,
            "grid_gap": null,
            "grid_row": null,
            "grid_template_areas": null,
            "grid_template_columns": null,
            "grid_template_rows": null,
            "height": null,
            "justify_content": null,
            "justify_items": null,
            "left": null,
            "margin": null,
            "max_height": null,
            "max_width": null,
            "min_height": null,
            "min_width": null,
            "object_fit": null,
            "object_position": null,
            "order": null,
            "overflow": null,
            "overflow_x": null,
            "overflow_y": null,
            "padding": null,
            "right": null,
            "top": null,
            "visibility": null,
            "width": null
          }
        },
        "35401e3d02a044439df5af2b4a0a8673": {
          "model_module": "@jupyter-widgets/controls",
          "model_name": "DescriptionStyleModel",
          "model_module_version": "1.5.0",
          "state": {
            "_model_module": "@jupyter-widgets/controls",
            "_model_module_version": "1.5.0",
            "_model_name": "DescriptionStyleModel",
            "_view_count": null,
            "_view_module": "@jupyter-widgets/base",
            "_view_module_version": "1.2.0",
            "_view_name": "StyleView",
            "description_width": ""
          }
        },
        "7d13ee3205af4c579d8e3b6423706982": {
          "model_module": "@jupyter-widgets/controls",
          "model_name": "HBoxModel",
          "model_module_version": "1.5.0",
          "state": {
            "_dom_classes": [],
            "_model_module": "@jupyter-widgets/controls",
            "_model_module_version": "1.5.0",
            "_model_name": "HBoxModel",
            "_view_count": null,
            "_view_module": "@jupyter-widgets/controls",
            "_view_module_version": "1.5.0",
            "_view_name": "HBoxView",
            "box_style": "",
            "children": [
              "IPY_MODEL_fc530e1c78cf4708b7b1b26c0135b5bf",
              "IPY_MODEL_40c87cb48f7843f8b20547681c24480e",
              "IPY_MODEL_9b3e01fbae0048548d60bfe7a39e4503"
            ],
            "layout": "IPY_MODEL_5b6595d3f094473dbcf9c14b2663354e"
          }
        },
        "fc530e1c78cf4708b7b1b26c0135b5bf": {
          "model_module": "@jupyter-widgets/controls",
          "model_name": "HTMLModel",
          "model_module_version": "1.5.0",
          "state": {
            "_dom_classes": [],
            "_model_module": "@jupyter-widgets/controls",
            "_model_module_version": "1.5.0",
            "_model_name": "HTMLModel",
            "_view_count": null,
            "_view_module": "@jupyter-widgets/controls",
            "_view_module_version": "1.5.0",
            "_view_name": "HTMLView",
            "description": "",
            "description_tooltip": null,
            "layout": "IPY_MODEL_deb9c8fa38394dcbb7a2cfcbbcbecaf4",
            "placeholder": "​",
            "style": "IPY_MODEL_1b012fe7d3e643e1b07f4964b3d6008d",
            "value": "Creating json from Arrow format: 100%"
          }
        },
        "40c87cb48f7843f8b20547681c24480e": {
          "model_module": "@jupyter-widgets/controls",
          "model_name": "FloatProgressModel",
          "model_module_version": "1.5.0",
          "state": {
            "_dom_classes": [],
            "_model_module": "@jupyter-widgets/controls",
            "_model_module_version": "1.5.0",
            "_model_name": "FloatProgressModel",
            "_view_count": null,
            "_view_module": "@jupyter-widgets/controls",
            "_view_module_version": "1.5.0",
            "_view_name": "ProgressView",
            "bar_style": "success",
            "description": "",
            "description_tooltip": null,
            "layout": "IPY_MODEL_004e65b17dbb4ba48122aea7758d949a",
            "max": 6,
            "min": 0,
            "orientation": "horizontal",
            "style": "IPY_MODEL_dcdf2a4f3f7c451d80b8cd30b6ab55b4",
            "value": 6
          }
        },
        "9b3e01fbae0048548d60bfe7a39e4503": {
          "model_module": "@jupyter-widgets/controls",
          "model_name": "HTMLModel",
          "model_module_version": "1.5.0",
          "state": {
            "_dom_classes": [],
            "_model_module": "@jupyter-widgets/controls",
            "_model_module_version": "1.5.0",
            "_model_name": "HTMLModel",
            "_view_count": null,
            "_view_module": "@jupyter-widgets/controls",
            "_view_module_version": "1.5.0",
            "_view_name": "HTMLView",
            "description": "",
            "description_tooltip": null,
            "layout": "IPY_MODEL_36c6903a874d4471a623734734b14eca",
            "placeholder": "​",
            "style": "IPY_MODEL_2be4ec8bb4594a26b79dc69c4b14fa38",
            "value": " 6/6 [00:00&lt;00:00, 26.53ba/s]"
          }
        },
        "5b6595d3f094473dbcf9c14b2663354e": {
          "model_module": "@jupyter-widgets/base",
          "model_name": "LayoutModel",
          "model_module_version": "1.2.0",
          "state": {
            "_model_module": "@jupyter-widgets/base",
            "_model_module_version": "1.2.0",
            "_model_name": "LayoutModel",
            "_view_count": null,
            "_view_module": "@jupyter-widgets/base",
            "_view_module_version": "1.2.0",
            "_view_name": "LayoutView",
            "align_content": null,
            "align_items": null,
            "align_self": null,
            "border": null,
            "bottom": null,
            "display": null,
            "flex": null,
            "flex_flow": null,
            "grid_area": null,
            "grid_auto_columns": null,
            "grid_auto_flow": null,
            "grid_auto_rows": null,
            "grid_column": null,
            "grid_gap": null,
            "grid_row": null,
            "grid_template_areas": null,
            "grid_template_columns": null,
            "grid_template_rows": null,
            "height": null,
            "justify_content": null,
            "justify_items": null,
            "left": null,
            "margin": null,
            "max_height": null,
            "max_width": null,
            "min_height": null,
            "min_width": null,
            "object_fit": null,
            "object_position": null,
            "order": null,
            "overflow": null,
            "overflow_x": null,
            "overflow_y": null,
            "padding": null,
            "right": null,
            "top": null,
            "visibility": null,
            "width": null
          }
        },
        "deb9c8fa38394dcbb7a2cfcbbcbecaf4": {
          "model_module": "@jupyter-widgets/base",
          "model_name": "LayoutModel",
          "model_module_version": "1.2.0",
          "state": {
            "_model_module": "@jupyter-widgets/base",
            "_model_module_version": "1.2.0",
            "_model_name": "LayoutModel",
            "_view_count": null,
            "_view_module": "@jupyter-widgets/base",
            "_view_module_version": "1.2.0",
            "_view_name": "LayoutView",
            "align_content": null,
            "align_items": null,
            "align_self": null,
            "border": null,
            "bottom": null,
            "display": null,
            "flex": null,
            "flex_flow": null,
            "grid_area": null,
            "grid_auto_columns": null,
            "grid_auto_flow": null,
            "grid_auto_rows": null,
            "grid_column": null,
            "grid_gap": null,
            "grid_row": null,
            "grid_template_areas": null,
            "grid_template_columns": null,
            "grid_template_rows": null,
            "height": null,
            "justify_content": null,
            "justify_items": null,
            "left": null,
            "margin": null,
            "max_height": null,
            "max_width": null,
            "min_height": null,
            "min_width": null,
            "object_fit": null,
            "object_position": null,
            "order": null,
            "overflow": null,
            "overflow_x": null,
            "overflow_y": null,
            "padding": null,
            "right": null,
            "top": null,
            "visibility": null,
            "width": null
          }
        },
        "1b012fe7d3e643e1b07f4964b3d6008d": {
          "model_module": "@jupyter-widgets/controls",
          "model_name": "DescriptionStyleModel",
          "model_module_version": "1.5.0",
          "state": {
            "_model_module": "@jupyter-widgets/controls",
            "_model_module_version": "1.5.0",
            "_model_name": "DescriptionStyleModel",
            "_view_count": null,
            "_view_module": "@jupyter-widgets/base",
            "_view_module_version": "1.2.0",
            "_view_name": "StyleView",
            "description_width": ""
          }
        },
        "004e65b17dbb4ba48122aea7758d949a": {
          "model_module": "@jupyter-widgets/base",
          "model_name": "LayoutModel",
          "model_module_version": "1.2.0",
          "state": {
            "_model_module": "@jupyter-widgets/base",
            "_model_module_version": "1.2.0",
            "_model_name": "LayoutModel",
            "_view_count": null,
            "_view_module": "@jupyter-widgets/base",
            "_view_module_version": "1.2.0",
            "_view_name": "LayoutView",
            "align_content": null,
            "align_items": null,
            "align_self": null,
            "border": null,
            "bottom": null,
            "display": null,
            "flex": null,
            "flex_flow": null,
            "grid_area": null,
            "grid_auto_columns": null,
            "grid_auto_flow": null,
            "grid_auto_rows": null,
            "grid_column": null,
            "grid_gap": null,
            "grid_row": null,
            "grid_template_areas": null,
            "grid_template_columns": null,
            "grid_template_rows": null,
            "height": null,
            "justify_content": null,
            "justify_items": null,
            "left": null,
            "margin": null,
            "max_height": null,
            "max_width": null,
            "min_height": null,
            "min_width": null,
            "object_fit": null,
            "object_position": null,
            "order": null,
            "overflow": null,
            "overflow_x": null,
            "overflow_y": null,
            "padding": null,
            "right": null,
            "top": null,
            "visibility": null,
            "width": null
          }
        },
        "dcdf2a4f3f7c451d80b8cd30b6ab55b4": {
          "model_module": "@jupyter-widgets/controls",
          "model_name": "ProgressStyleModel",
          "model_module_version": "1.5.0",
          "state": {
            "_model_module": "@jupyter-widgets/controls",
            "_model_module_version": "1.5.0",
            "_model_name": "ProgressStyleModel",
            "_view_count": null,
            "_view_module": "@jupyter-widgets/base",
            "_view_module_version": "1.2.0",
            "_view_name": "StyleView",
            "bar_color": null,
            "description_width": ""
          }
        },
        "36c6903a874d4471a623734734b14eca": {
          "model_module": "@jupyter-widgets/base",
          "model_name": "LayoutModel",
          "model_module_version": "1.2.0",
          "state": {
            "_model_module": "@jupyter-widgets/base",
            "_model_module_version": "1.2.0",
            "_model_name": "LayoutModel",
            "_view_count": null,
            "_view_module": "@jupyter-widgets/base",
            "_view_module_version": "1.2.0",
            "_view_name": "LayoutView",
            "align_content": null,
            "align_items": null,
            "align_self": null,
            "border": null,
            "bottom": null,
            "display": null,
            "flex": null,
            "flex_flow": null,
            "grid_area": null,
            "grid_auto_columns": null,
            "grid_auto_flow": null,
            "grid_auto_rows": null,
            "grid_column": null,
            "grid_gap": null,
            "grid_row": null,
            "grid_template_areas": null,
            "grid_template_columns": null,
            "grid_template_rows": null,
            "height": null,
            "justify_content": null,
            "justify_items": null,
            "left": null,
            "margin": null,
            "max_height": null,
            "max_width": null,
            "min_height": null,
            "min_width": null,
            "object_fit": null,
            "object_position": null,
            "order": null,
            "overflow": null,
            "overflow_x": null,
            "overflow_y": null,
            "padding": null,
            "right": null,
            "top": null,
            "visibility": null,
            "width": null
          }
        },
        "2be4ec8bb4594a26b79dc69c4b14fa38": {
          "model_module": "@jupyter-widgets/controls",
          "model_name": "DescriptionStyleModel",
          "model_module_version": "1.5.0",
          "state": {
            "_model_module": "@jupyter-widgets/controls",
            "_model_module_version": "1.5.0",
            "_model_name": "DescriptionStyleModel",
            "_view_count": null,
            "_view_module": "@jupyter-widgets/base",
            "_view_module_version": "1.2.0",
            "_view_name": "StyleView",
            "description_width": ""
          }
        }
      }
    }
  },
  "cells": [
    {
      "cell_type": "markdown",
      "metadata": {
        "id": "view-in-github",
        "colab_type": "text"
      },
      "source": [
        "<a href=\"https://colab.research.google.com/github/tazkera-haque-ds/Interactive-Dev-Environment-for-LLM-Development/blob/main/Open_Source_RAG_with_Gradient.ipynb\" target=\"_parent\"><img src=\"https://colab.research.google.com/assets/colab-badge.svg\" alt=\"Open In Colab\"/></a>"
      ]
    },
    {
      "cell_type": "markdown",
      "source": [
        "# Fine-tuned RAG with Gradient\n",
        "\n",
        "In today's notebook, we'll be working through an example of how you can leverage Gradient's services to fine-tune a model, host that model on their endpoints, and leverage it in LangChain!\n",
        "\n",
        "We're going to be focusing on a relatively simplified example today:\n",
        "\n",
        "Instruct-tuning Llama2-7b-chat.\n",
        "\n",
        "We'll be using the following tools:\n",
        "\n",
        "- [LlamaIndex](https://gpt-index.readthedocs.io/en/stable/examples/finetuning/gradient/gradient_text2sql.html)\n",
        "  - LlamaIndex will be helping us fine-tune our Gradient model with its convenient wrapper\n",
        "  - It will also help us quickly and conveniently fine-tune our embedding model to our data.\n",
        "- [LangChain](https://python.langchain.com/docs/integrations/llms/gradient)\n",
        "  - We'll be using LangChain to power our simple RAG application!\n",
        "- [Gradient](https://docs.gradient.ai/docs/introduction) - the star of the show today!\n",
        "  - Gradient makes it easy to fine-tune your models, and then leverage those fine-tuned models! With a per-token pricing, you can run your fine-tuned models on demand!\n"
      ],
      "metadata": {
        "id": "icTJlA3icSK7"
      }
    },
    {
      "cell_type": "markdown",
      "source": [
        "## Sign Up for Gradient\n",
        "\n",
        "### Register\n",
        "\n",
        "The first step to this process will be, of course, to sign up!\n",
        "\n",
        "Head over to Gradient's [registration page](https://auth.gradient.ai/register) to get started!\n",
        "\n",
        "### Create a Workspace\n",
        "\n",
        "Now, you'll want to create a workspace. You can do so from your dashboard, found [here](https://auth.gradient.ai/).\n",
        "\n",
        "![image](https://i.imgur.com/ZzDhNiP.png)\n",
        "\n",
        "Take note of the Workspace ID!\n",
        "\n",
        "### Add Billing to Your Workspace\n",
        "\n",
        "You receive a number of credits by signing up to Gradient - but you'll still want to add billing! You can find that by clicking `More` in the workspace, and navigating to the `Billing` menu.\n",
        "\n",
        "![image](https://i.imgur.com/XWMdPKk.png)\n",
        "\n",
        "### Create Access Token\n",
        "\n",
        "Now you can navigate to the `Access toknes` tab, and create an access token!\n",
        "\n",
        "Simply click `Generate new access token` and then enter your password.\n",
        "\n",
        "Be sure to store your access token somewhere safe!\n",
        "\n",
        "![image](https://i.imgur.com/xMaFgeZ.png)\n",
        "\n",
        "### Done! 🎉\n",
        "\n",
        "Now you're ready to carry on with the demo! This demo should not exceed the credits you receive for signing up with Gradient!"
      ],
      "metadata": {
        "id": "msGLs1HFeeTQ"
      }
    },
    {
      "cell_type": "markdown",
      "source": [
        "## Instruct-tuning Llama-2-7b-chat\n",
        "\n",
        "We'll be \"instruct-tuning\" [Llama-2-7b-chat](https://huggingface.co/meta-llama/Llama-2-7b-chat-hf) today.\n",
        "\n",
        "In essence, we're going to try to make it better at following our provided instructions.\n",
        "\n",
        "We'll be leveraging the [MosaicML Instruct-v3](https://huggingface.co/datasets/mosaicml/instruct-v3) dataset to do this, which includes a number of instruction aligned datasets and is permissively licensed.\n",
        "\n",
        "Let's start by grabbing our dependencies."
      ],
      "metadata": {
        "id": "RwsjFwsLdlkE"
      }
    },
    {
      "cell_type": "code",
      "execution_count": null,
      "metadata": {
        "colab": {
          "base_uri": "https://localhost:8080/"
        },
        "id": "ahnGhJ8hNfaS",
        "outputId": "0abde77e-fb4d-42c0-b556-ed5829db5c9a"
      },
      "outputs": [
        {
          "output_type": "stream",
          "name": "stdout",
          "text": [
            "\u001b[2K     \u001b[90m━━━━━━━━━━━━━━━━━━━━━━━━━━━━━━━━━━━━━━━━\u001b[0m \u001b[32m48.0/48.0 kB\u001b[0m \u001b[31m1.3 MB/s\u001b[0m eta \u001b[36m0:00:00\u001b[0m\n",
            "\u001b[2K     \u001b[90m━━━━━━━━━━━━━━━━━━━━━━━━━━━━━━━━━━━━━━━━\u001b[0m \u001b[32m2.7/2.7 MB\u001b[0m \u001b[31m29.4 MB/s\u001b[0m eta \u001b[36m0:00:00\u001b[0m\n",
            "\u001b[?25h"
          ]
        }
      ],
      "source": [
        "!pip install llama-index gradientai cohere langchain -qU"
      ]
    },
    {
      "cell_type": "markdown",
      "source": [
        "Now we can provide the access token and workspace ID we obtained earlier!"
      ],
      "metadata": {
        "id": "V29h_l3zeOPs"
      }
    },
    {
      "cell_type": "code",
      "source": [
        "import getpass\n",
        "import os\n",
        "\n",
        "os.environ[\"GRADIENT_ACCESS_TOKEN\"] = getpass.getpass(\"Gradient Access Token: \")"
      ],
      "metadata": {
        "colab": {
          "base_uri": "https://localhost:8080/"
        },
        "id": "nwG21XGoOo0I",
        "outputId": "e4aed099-cce3-434a-e65e-661ee3780566"
      },
      "execution_count": null,
      "outputs": [
        {
          "name": "stdout",
          "output_type": "stream",
          "text": [
            "Gradient Access Token: ··········\n"
          ]
        }
      ]
    },
    {
      "cell_type": "code",
      "source": [
        "os.environ[\"GRADIENT_WORKSPACE_ID\"] = getpass.getpass(\"Gradient Workspace ID: \")"
      ],
      "metadata": {
        "colab": {
          "base_uri": "https://localhost:8080/"
        },
        "id": "8Ukvvd_xOyqh",
        "outputId": "9096dfd7-4d12-4a06-8bdb-f6316fea4980"
      },
      "execution_count": null,
      "outputs": [
        {
          "name": "stdout",
          "output_type": "stream",
          "text": [
            "Gradient Workspace ID: ··········\n"
          ]
        }
      ]
    },
    {
      "cell_type": "code",
      "source": [
        "!pip install datasets -qU"
      ],
      "metadata": {
        "colab": {
          "base_uri": "https://localhost:8080/"
        },
        "id": "F__wmctoPTim",
        "outputId": "fe798a0e-07bd-4e0e-ca7f-916c1bdc7d7b"
      },
      "execution_count": null,
      "outputs": [
        {
          "output_type": "stream",
          "name": "stdout",
          "text": [
            "\u001b[2K     \u001b[90m━━━━━━━━━━━━━━━━━━━━━━━━━━━━━━━━━━━━━━━━\u001b[0m \u001b[32m493.7/493.7 kB\u001b[0m \u001b[31m6.4 MB/s\u001b[0m eta \u001b[36m0:00:00\u001b[0m\n",
            "\u001b[2K     \u001b[90m━━━━━━━━━━━━━━━━━━━━━━━━━━━━━━━━━━━━━━━━\u001b[0m \u001b[32m115.3/115.3 kB\u001b[0m \u001b[31m12.2 MB/s\u001b[0m eta \u001b[36m0:00:00\u001b[0m\n",
            "\u001b[2K     \u001b[90m━━━━━━━━━━━━━━━━━━━━━━━━━━━━━━━━━━━━━━━━\u001b[0m \u001b[32m134.8/134.8 kB\u001b[0m \u001b[31m12.8 MB/s\u001b[0m eta \u001b[36m0:00:00\u001b[0m\n",
            "\u001b[2K     \u001b[90m━━━━━━━━━━━━━━━━━━━━━━━━━━━━━━━━━━━━━━━━\u001b[0m \u001b[32m311.2/311.2 kB\u001b[0m \u001b[31m19.8 MB/s\u001b[0m eta \u001b[36m0:00:00\u001b[0m\n",
            "\u001b[?25h"
          ]
        }
      ]
    },
    {
      "cell_type": "markdown",
      "source": [
        "### Format Dataset\n",
        "\n",
        "In order to properly instruct-tune our model - we'll want to convert it into the expected format.\n",
        "\n",
        "Gradient's fine-tuning system needs a `.jsonl` file where each row corresponds to a training example.\n",
        "\n",
        "Each row should have an object called `inputs` which contains your fully formatted prompt.\n",
        "\n",
        "Let's walk through the steps of how we can do that!"
      ],
      "metadata": {
        "id": "vpriIe0WqRdH"
      }
    },
    {
      "cell_type": "markdown",
      "source": [
        "#### Load HF Dataset\n",
        "\n",
        "First things first, we need to load our `mosaicml/instruct-v3` dataset. It's a great collection of effective and safe tasks.\n",
        "\n",
        "> NOTE: While we're using a safety aligned dataset - there's no guarentee our model will be safe! Please be sure to consider additional safety measures if you're productionalizing your model!"
      ],
      "metadata": {
        "id": "ck_5U-vIq7zW"
      }
    },
    {
      "cell_type": "code",
      "source": [
        "from datasets import load_dataset\n",
        "\n",
        "instruct_tune_dataset = load_dataset(\"mosaicml/instruct-v3\")"
      ],
      "metadata": {
        "id": "DI1G_zS8PWh9"
      },
      "execution_count": null,
      "outputs": []
    },
    {
      "cell_type": "markdown",
      "source": [
        "Let's take a peek at our dataset.\n",
        "\n",
        "It's our job to merge these `prompt` and `response` columns into a single formatted prompt for instruct-tuning."
      ],
      "metadata": {
        "id": "VmAvZLhkrY6p"
      }
    },
    {
      "cell_type": "code",
      "source": [
        "instruct_tune_dataset"
      ],
      "metadata": {
        "colab": {
          "base_uri": "https://localhost:8080/"
        },
        "id": "YfDpPbAyTHff",
        "outputId": "5c53e139-78dc-4024-92a1-658d56024f20"
      },
      "execution_count": null,
      "outputs": [
        {
          "output_type": "execute_result",
          "data": {
            "text/plain": [
              "DatasetDict({\n",
              "    train: Dataset({\n",
              "        features: ['prompt', 'response', 'source'],\n",
              "        num_rows: 56167\n",
              "    })\n",
              "    test: Dataset({\n",
              "        features: ['prompt', 'response', 'source'],\n",
              "        num_rows: 6807\n",
              "    })\n",
              "})"
            ]
          },
          "metadata": {},
          "execution_count": 58
        }
      ]
    },
    {
      "cell_type": "markdown",
      "source": [
        "#### Create Formatted Prompt\n",
        "\n",
        "In the following function we'll be merging our `prompt` and `response` columns by creating the following template:\n",
        "\n",
        "```\n",
        "<s>### Instruction:\n",
        "Below is an instruction that describes a task. Write a response that appropriately completes the request.\n",
        "{USER MESSAGE}\n",
        "\n",
        "### Response:\n",
        "{RESPONSE}</s>\n",
        "```\n",
        "\n",
        "> NOTE: This sequence was selected due to the [findings](https://gpt-index.readthedocs.io/en/stable/examples/finetuning/gradient/gradient_text2sql.html#map-training-dataset-dictionaries-to-prompts) of the LlamaIndex team."
      ],
      "metadata": {
        "id": "LQy1Xv7Mr7EN"
      }
    },
    {
      "cell_type": "code",
      "source": [
        "def create_prompt(sample):\n",
        "  bos_token = \"<s>\"\n",
        "  system_message = \"Below is an instruction that describes a task. Write a response that appropriately completes the request.\"\n",
        "  user_message = sample[\"prompt\"].replace(system_message, \"\").replace(\"\\n\\n### Instruction\\n\", \"\").replace(\"\\n### Response\\n\", \"\").strip()\n",
        "  response = sample[\"response\"]\n",
        "  eos_token = \"</s>\"\n",
        "\n",
        "  full_prompt = \"\"\n",
        "  full_prompt += bos_token\n",
        "  full_prompt += \"### Instruction:\"\n",
        "  full_prompt += \"\\n\" + system_message\n",
        "  full_prompt += \"\\n\" + user_message\n",
        "  full_prompt += \"\\n\\n### Response:\"\n",
        "  full_prompt += \"\\n\" + response\n",
        "  full_prompt += eos_token\n",
        "\n",
        "  return {\"inputs\" : full_prompt}"
      ],
      "metadata": {
        "id": "ZYLl8EJmTRL2"
      },
      "execution_count": null,
      "outputs": []
    },
    {
      "cell_type": "markdown",
      "source": [
        "Let's check and see how it works."
      ],
      "metadata": {
        "id": "Bo0UwObJtn5u"
      }
    },
    {
      "cell_type": "code",
      "source": [
        "create_prompt(instruct_tune_dataset[\"train\"][1])[\"inputs\"]"
      ],
      "metadata": {
        "colab": {
          "base_uri": "https://localhost:8080/",
          "height": 124
        },
        "id": "ZFYRmkj6UIpf",
        "outputId": "fbd611a6-eca2-4631-cbf8-965fae6806d3"
      },
      "execution_count": null,
      "outputs": [
        {
          "output_type": "execute_result",
          "data": {
            "text/plain": [
              "'<s>### Instruction:\\nBelow is an instruction that describes a task. Write a response that appropriately completes the request.\\nWhat are different types of grass?\\n\\n### Response:\\nThere are more than 12,000 species of grass. The most common is Kentucky Bluegrass, because it grows quickly, easily, and is soft to the touch. Rygrass is shiny and bright green colored. Fescues are dark green and shiny. Bermuda grass is harder but can grow in drier soil.</s>'"
            ],
            "application/vnd.google.colaboratory.intrinsic+json": {
              "type": "string"
            }
          },
          "metadata": {},
          "execution_count": 176
        }
      ]
    },
    {
      "cell_type": "markdown",
      "source": [
        "That looks great!"
      ],
      "metadata": {
        "id": "ILurVL9Ktg_2"
      }
    },
    {
      "cell_type": "markdown",
      "source": [
        "#### Map to Dataset\n",
        "\n",
        "Now we can map our formatting function across our dataset!"
      ],
      "metadata": {
        "id": "sTvHgMNIwMIr"
      }
    },
    {
      "cell_type": "code",
      "source": [
        "instruct_tune_dataset = instruct_tune_dataset.map(create_prompt)"
      ],
      "metadata": {
        "colab": {
          "base_uri": "https://localhost:8080/",
          "height": 137,
          "referenced_widgets": [
            "27dd611bfdda4d4a8f84401ee9653db9",
            "911487346d3543969ab7d6215fe9789c",
            "2fe90c06403440e19192e29be8d345ee",
            "e5d4da2b179044d6845f76245b9f58bd",
            "78d25d02160d4f36b3827e4f1e9432de",
            "b2e38c8c67c2487ca12f399c2439afbe",
            "4a06571bfacc4e479d618b5546fa4393",
            "c3611d9f996e4ce7b765b1f0c25958e3",
            "e24c482cce6640dea466e707de010d6d",
            "761269fbaa294588b1c11a60eac2ab3c",
            "df453ba4109e4da48bbc1ecdbf686fa4",
            "d8d07a93065348609dcee557ce4a0b14",
            "9c826d91416645978242c046e4a4d107",
            "1a8e659dd62e410db217eb373a06e6cd",
            "03a73c6d3a504fbab3a0102a768e9c3b",
            "e6a404be9fa742c48a2c000d3b7347eb",
            "0dae362274fc48d1a04a0b7427a932d3",
            "83cb913c669e453baa69f72640457a88",
            "a30dbb6b49d94dfdaf2ff9d0218ac140",
            "596d45db4bfa4c5593482420fb3720a8",
            "b21b1b347bd542d6b7977b8c2e8b0889",
            "46992ed7efd640d0a82aa41fdb2ddb9f"
          ]
        },
        "id": "NACJsrfEXHnl",
        "outputId": "86269b79-4136-4087-fbff-b05ff44c1833"
      },
      "execution_count": null,
      "outputs": [
        {
          "output_type": "display_data",
          "data": {
            "text/plain": [
              "Map:   0%|          | 0/56167 [00:00<?, ? examples/s]"
            ],
            "application/vnd.jupyter.widget-view+json": {
              "version_major": 2,
              "version_minor": 0,
              "model_id": "27dd611bfdda4d4a8f84401ee9653db9"
            }
          },
          "metadata": {}
        },
        {
          "output_type": "display_data",
          "data": {
            "text/plain": [
              "Map:   0%|          | 0/6807 [00:00<?, ? examples/s]"
            ],
            "application/vnd.jupyter.widget-view+json": {
              "version_major": 2,
              "version_minor": 0,
              "model_id": "d8d07a93065348609dcee557ce4a0b14"
            }
          },
          "metadata": {}
        }
      ]
    },
    {
      "cell_type": "code",
      "source": [
        "instruct_tune_dataset"
      ],
      "metadata": {
        "colab": {
          "base_uri": "https://localhost:8080/"
        },
        "id": "_rdNMQ2HXcj2",
        "outputId": "743e0faf-8ccb-4eb0-e8df-ef512e399f7d"
      },
      "execution_count": null,
      "outputs": [
        {
          "output_type": "execute_result",
          "data": {
            "text/plain": [
              "DatasetDict({\n",
              "    train: Dataset({\n",
              "        features: ['prompt', 'response', 'source', 'inputs'],\n",
              "        num_rows: 56167\n",
              "    })\n",
              "    test: Dataset({\n",
              "        features: ['prompt', 'response', 'source', 'inputs'],\n",
              "        num_rows: 6807\n",
              "    })\n",
              "})"
            ]
          },
          "metadata": {},
          "execution_count": 63
        }
      ]
    },
    {
      "cell_type": "code",
      "source": [
        "instruct_tune_dataset[\"train\"][1][\"inputs\"]"
      ],
      "metadata": {
        "colab": {
          "base_uri": "https://localhost:8080/",
          "height": 124
        },
        "id": "joPXxwguXffw",
        "outputId": "c0374267-679f-426f-8176-2950dd760be2"
      },
      "execution_count": null,
      "outputs": [
        {
          "output_type": "execute_result",
          "data": {
            "text/plain": [
              "'<s>### Instruction\\nBelow is an instruction that describes a task. Write a response that appropriately completes the request.\\nWhat are different types of grass?\\n\\n### Response\\nThere are more than 12,000 species of grass. The most common is Kentucky Bluegrass, because it grows quickly, easily, and is soft to the touch. Rygrass is shiny and bright green colored. Fescues are dark green and shiny. Bermuda grass is harder but can grow in drier soil.</s>'"
            ],
            "application/vnd.google.colaboratory.intrinsic+json": {
              "type": "string"
            }
          },
          "metadata": {},
          "execution_count": 64
        }
      ]
    },
    {
      "cell_type": "markdown",
      "source": [
        "#### Filtering Dataset\n",
        "\n",
        "Alright! We're just about done!\n",
        "\n",
        "We're going to make a small change to the dataset based on the maximum allowed training context window - which is `2048` tokens.\n",
        "\n",
        "For this example, we'll simply naively filter all long responses out."
      ],
      "metadata": {
        "id": "SYX7FZkauabZ"
      }
    },
    {
      "cell_type": "code",
      "source": [
        "pruned_dataset = instruct_tune_dataset.filter(lambda x: len(x[\"inputs\"]) <= 2000)"
      ],
      "metadata": {
        "colab": {
          "base_uri": "https://localhost:8080/",
          "height": 137,
          "referenced_widgets": [
            "3cf496b68ae648b38248ba95d0aafaf4",
            "d801c1ca95a34b4b976ce566af8b1433",
            "fed0973b331642dcbadeb0b3e49979f3",
            "ec6c65395ccd447aa881cc0108eefd12",
            "4af47a1aef914a41b12d84483e66e1e9",
            "71bc430720b94fda886d0f72ba0f0bfd",
            "006d98e986554323a95200c36b021577",
            "3692f2e8b35746e693e9770672de28a0",
            "46af1ced43e942fd8302162bb0ca021c",
            "366c999c4e5348969bb9204ad6522ec1",
            "5461d33185ad48868dd26f65fc2b8843",
            "43a85238bf524fea873b9b49a9e582d9",
            "a96b8dd9e71a443894cef02be2620936",
            "0a82ea0e321346d7988815109f419d22",
            "c11a9bbd073d4308a869fb1108d9960b",
            "92886e9cdcb64a478dabcffc227d134d",
            "260050f5682848279157b74578a398d0",
            "0fc32204033d4a219240a8ac9e85cd95",
            "67bd2df378a44102a8e07be4a237d53a",
            "51b79591f63148fcb53f755f1319bab6",
            "69a0399a471147f388179f33b4a2de9c",
            "4dff699a469d49f5b9e69450dece0fff"
          ]
        },
        "id": "cL1Es5DdbFHD",
        "outputId": "5ca7dd3a-fd73-4310-eef5-fe41bf7eb490"
      },
      "execution_count": null,
      "outputs": [
        {
          "output_type": "display_data",
          "data": {
            "text/plain": [
              "Filter:   0%|          | 0/56167 [00:00<?, ? examples/s]"
            ],
            "application/vnd.jupyter.widget-view+json": {
              "version_major": 2,
              "version_minor": 0,
              "model_id": "3cf496b68ae648b38248ba95d0aafaf4"
            }
          },
          "metadata": {}
        },
        {
          "output_type": "display_data",
          "data": {
            "text/plain": [
              "Filter:   0%|          | 0/6807 [00:00<?, ? examples/s]"
            ],
            "application/vnd.jupyter.widget-view+json": {
              "version_major": 2,
              "version_minor": 0,
              "model_id": "43a85238bf524fea873b9b49a9e582d9"
            }
          },
          "metadata": {}
        }
      ]
    },
    {
      "cell_type": "code",
      "source": [
        "pruned_dataset"
      ],
      "metadata": {
        "colab": {
          "base_uri": "https://localhost:8080/"
        },
        "id": "t0q7EWcZbW1f",
        "outputId": "18ee3cbc-91bf-4a9e-f092-ee5ac275b5e4"
      },
      "execution_count": null,
      "outputs": [
        {
          "output_type": "execute_result",
          "data": {
            "text/plain": [
              "DatasetDict({\n",
              "    train: Dataset({\n",
              "        features: ['prompt', 'response', 'source', 'inputs'],\n",
              "        num_rows: 40736\n",
              "    })\n",
              "    test: Dataset({\n",
              "        features: ['prompt', 'response', 'source', 'inputs'],\n",
              "        num_rows: 5512\n",
              "    })\n",
              "})"
            ]
          },
          "metadata": {},
          "execution_count": 78
        }
      ]
    },
    {
      "cell_type": "markdown",
      "source": [
        "#### Saving to JSONL\n",
        "\n",
        "We can take advantage of the `datasets` library's `to_json` to export our dataset in the desired format."
      ],
      "metadata": {
        "id": "t0v4fdr8wRdQ"
      }
    },
    {
      "cell_type": "code",
      "source": [
        "for split, dataset in pruned_dataset.items():\n",
        "  dataset.to_json(f\"instruct_tune_{split}.jsonl\")"
      ],
      "metadata": {
        "colab": {
          "base_uri": "https://localhost:8080/",
          "height": 137,
          "referenced_widgets": [
            "2ba1c436f48e4306a34ec5b6ccf92411",
            "1ec6b55c23d4479d96a53e7521a3688f",
            "afd8cbb164b9445586d4452af87ba26b",
            "5c9fd7f1dbc54878b4ba3afceca37fad",
            "3a07421ddb7a45ed8d2da8c24f896627",
            "b65f3916c88f43ffbaf5577fbc296773",
            "27a67f75bcbb43128972dace9ed5ccfe",
            "143d7284356b4d52bfea5975d91cecf8",
            "f1f4dbd1cbdf4e2aaa1d2e77298a3e88",
            "33fcd043dc9b423cb9a05dfa4f8ffbcb",
            "35401e3d02a044439df5af2b4a0a8673",
            "7d13ee3205af4c579d8e3b6423706982",
            "fc530e1c78cf4708b7b1b26c0135b5bf",
            "40c87cb48f7843f8b20547681c24480e",
            "9b3e01fbae0048548d60bfe7a39e4503",
            "5b6595d3f094473dbcf9c14b2663354e",
            "deb9c8fa38394dcbb7a2cfcbbcbecaf4",
            "1b012fe7d3e643e1b07f4964b3d6008d",
            "004e65b17dbb4ba48122aea7758d949a",
            "dcdf2a4f3f7c451d80b8cd30b6ab55b4",
            "36c6903a874d4471a623734734b14eca",
            "2be4ec8bb4594a26b79dc69c4b14fa38"
          ]
        },
        "id": "2SgBnzhkXr-3",
        "outputId": "fb6ad719-1958-4b7d-f6a6-943dc5d10784"
      },
      "execution_count": null,
      "outputs": [
        {
          "output_type": "display_data",
          "data": {
            "text/plain": [
              "Creating json from Arrow format:   0%|          | 0/41 [00:00<?, ?ba/s]"
            ],
            "application/vnd.jupyter.widget-view+json": {
              "version_major": 2,
              "version_minor": 0,
              "model_id": "2ba1c436f48e4306a34ec5b6ccf92411"
            }
          },
          "metadata": {}
        },
        {
          "output_type": "display_data",
          "data": {
            "text/plain": [
              "Creating json from Arrow format:   0%|          | 0/6 [00:00<?, ?ba/s]"
            ],
            "application/vnd.jupyter.widget-view+json": {
              "version_major": 2,
              "version_minor": 0,
              "model_id": "7d13ee3205af4c579d8e3b6423706982"
            }
          },
          "metadata": {}
        }
      ]
    },
    {
      "cell_type": "markdown",
      "source": [
        "### Instruct-tuning!\n",
        "\n",
        "Now we're ready to start the training!\n",
        "\n",
        "Let's walk through what's happening - we're going to be leveraging LlamaIndex's convenient wrappers to make this already simple process even simpler."
      ],
      "metadata": {
        "id": "X2suzuzBwrDM"
      }
    },
    {
      "cell_type": "markdown",
      "source": [
        "#### Initializing a Base Model\n",
        "\n",
        "For our base model, we'll be using `llama2-7b-chat`.\n",
        "\n",
        "You can check out the docs [here](https://gpt-index.readthedocs.io/en/latest/api_reference/llms/gradient_base_model.html) if you wanted to dig a little deeper into LlamaIndex's `GradientBaseModelLLM`.\n",
        "\n",
        "We could stop right here - and use this as our LLM - but we're going to carry on an fine-tune a model instead!"
      ],
      "metadata": {
        "id": "d81tfwCsxMVi"
      }
    },
    {
      "cell_type": "code",
      "source": [
        "from llama_index.llms import GradientBaseModelLLM\n",
        "\n",
        "base_model_slug = \"llama2-7b-chat\"\n",
        "base_llm = GradientBaseModelLLM(\n",
        "    base_model_slug=base_model_slug, max_tokens=300\n",
        ")"
      ],
      "metadata": {
        "id": "DZbAyZ68YkIf"
      },
      "execution_count": null,
      "outputs": []
    },
    {
      "cell_type": "markdown",
      "source": [
        "#### Initializing Our Fine-tune Engine\n",
        "\n",
        "Once again, LlamaIndex has built a convenient wrapper we can use to set up our fine-tuning job on Gradient with!\n",
        "\n",
        "Check out the docs [here](https://gpt-index.readthedocs.io/en/v0.8.58/api_reference/finetuning.html#llama_index.finetuning.GradientFinetuneEngine), though they're still being worked on.\n",
        "\n",
        "Let's take a peek at some of the parameters and see what they do for us:\n",
        "\n",
        "- `base_model_slug` - this is a reference to the model `Slug ID`, you can find those IDs [here](https://docs.gradient.ai/docs/models-1#%EF%B8%8F-gradient-hosted-llms) in the \"Model IDs for reference in the API and CLI\" table.\n",
        "- `name` - this is the name given to your fine-tuned model\n",
        "- `data_path` - this will point to the formatted `jsonl` file and be used by the `GradientFinetuneEngine` to pull training examples from.\n",
        "- `verbose` - lets us know what's going on!\n",
        "- `max_steps` - the number of steps the model will be fine-tuned on\n",
        "- `batch_size` - the number of examples used to train at a time\n",
        "\n",
        "The basic idea is that we will repeatedly fine-tune the model - bit by bit - as we work through our `max_steps`.\n",
        "\n",
        "Check out some awesome [tips and tricks](https://docs.gradient.ai/docs/tips-and-tricks) provided by the Gradient team if you wanted to dive deeper into what exactly we can do with our fine-tuning!"
      ],
      "metadata": {
        "id": "njJdJuZ_y8SN"
      }
    },
    {
      "cell_type": "code",
      "source": [
        "from llama_index.finetuning.gradient.base import GradientFinetuneEngine\n",
        "\n",
        "finetune_engine = GradientFinetuneEngine(\n",
        "    base_model_slug=base_model_slug,\n",
        "    name=\"instruct_tune\",\n",
        "    data_path=\"/content/instruct_tune_train.jsonl\",\n",
        "    verbose=True,\n",
        "    max_steps=100,\n",
        "    batch_size=4,\n",
        ")"
      ],
      "metadata": {
        "id": "25q1c9ZzjTZa"
      },
      "execution_count": null,
      "outputs": []
    },
    {
      "cell_type": "markdown",
      "source": [
        "Now we can grab our `model_adapter_id` from our `finetune_engine`.\n",
        "\n",
        "This will be useful when we need to address our specific fine-tuned model in the future.\n",
        "\n",
        "> NOTE: If you're following closely - you'll notice that this has `adapter` in it. That's right - Gradient is using everyone's favourite LoRA to fine-tune!"
      ],
      "metadata": {
        "id": "SuWAYEPw1nlt"
      }
    },
    {
      "cell_type": "code",
      "source": [
        "finetune_engine.model_adapter_id"
      ],
      "metadata": {
        "colab": {
          "base_uri": "https://localhost:8080/",
          "height": 35
        },
        "id": "Lz7xFUQcZJBb",
        "outputId": "5cdab7e5-5785-48a6-c203-46f3f8c25fa1"
      },
      "execution_count": null,
      "outputs": [
        {
          "output_type": "execute_result",
          "data": {
            "text/plain": [
              "'4d838eac-d40f-4cbc-8ca1-58a397a1de84_model_adapter'"
            ],
            "application/vnd.google.colaboratory.intrinsic+json": {
              "type": "string"
            }
          },
          "metadata": {},
          "execution_count": 82
        }
      ]
    },
    {
      "cell_type": "markdown",
      "source": [
        "#### Instruct-tuning Llama 2 7B Chat\n",
        "\n",
        "Finally, here we go!\n",
        "\n",
        "We're now ready to call our `finetune()` method on our `finetune_engine` to start sending examples to fine-tune our Gradient model!"
      ],
      "metadata": {
        "id": "YBpsGHu22FRf"
      }
    },
    {
      "cell_type": "code",
      "source": [
        "epochs = 1\n",
        "for i in range(epochs):\n",
        "    print(f\"** EPOCH {i} **\")\n",
        "    finetune_engine.finetune()"
      ],
      "metadata": {
        "colab": {
          "base_uri": "https://localhost:8080/"
        },
        "id": "hmDbiM80ZK5o",
        "outputId": "1c4029c2-27ef-42a0-9357-4641d7868f3a"
      },
      "execution_count": null,
      "outputs": [
        {
          "output_type": "stream",
          "name": "stdout",
          "text": [
            "** EPOCH 0 **\n",
            "fine-tuning step 4: loss=1930.9631, trainable tokens=963\n",
            "fine-tuning step 8: loss=1117.605, trainable tokens=640\n",
            "fine-tuning step 12: loss=1046.6661, trainable tokens=638\n",
            "fine-tuning step 16: loss=1399.2902, trainable tokens=900\n",
            "fine-tuning step 20: loss=1534.9531, trainable tokens=905\n",
            "fine-tuning step 24: loss=601.874, trainable tokens=414\n",
            "fine-tuning step 28: loss=1762.9719, trainable tokens=1311\n",
            "fine-tuning step 32: loss=1151.291, trainable tokens=1085\n",
            "fine-tuning step 36: loss=1525.5577, trainable tokens=885\n",
            "fine-tuning step 40: loss=765.99927, trainable tokens=597\n",
            "fine-tuning step 44: loss=1641.0099, trainable tokens=1321\n",
            "fine-tuning step 48: loss=991.6924, trainable tokens=610\n",
            "fine-tuning step 52: loss=840.37494, trainable tokens=596\n",
            "fine-tuning step 56: loss=1528.7517, trainable tokens=923\n",
            "fine-tuning step 60: loss=1034.7272, trainable tokens=866\n",
            "fine-tuning step 64: loss=826.2357, trainable tokens=563\n",
            "fine-tuning step 68: loss=1207.7329, trainable tokens=952\n",
            "fine-tuning step 72: loss=1068.2081, trainable tokens=854\n",
            "fine-tuning step 76: loss=922.76074, trainable tokens=637\n",
            "fine-tuning step 80: loss=932.8845, trainable tokens=737\n",
            "fine-tuning step 84: loss=765.1803, trainable tokens=552\n",
            "fine-tuning step 88: loss=1570.8014, trainable tokens=1171\n",
            "fine-tuning step 92: loss=1127.4504, trainable tokens=742\n",
            "fine-tuning step 96: loss=899.36414, trainable tokens=643\n",
            "fine-tuning step 100: loss=858.9144, trainable tokens=723\n"
          ]
        }
      ]
    },
    {
      "cell_type": "markdown",
      "source": [
        "## Hosting An Embedding Model with Gradient\n",
        "\n",
        "It's never been easier to get rockin' with a hosted embedding model.\n",
        "\n",
        "All we need to do is provide our access token and workspace ID (which should already be in your env from before) and select the BGE embedding model (currently the only support embedding model, though more are on the way) and we're done!"
      ],
      "metadata": {
        "id": "x5zO1WlR7YgC"
      }
    },
    {
      "cell_type": "code",
      "source": [
        "from getpass import getpass\n",
        "import os\n",
        "\n",
        "if not os.environ.get(\"GRADIENT_ACCESS_TOKEN\", None):\n",
        "    os.environ[\"GRADIENT_ACCESS_TOKEN\"] = getpass(\"gradient.ai access token:\")\n",
        "if not os.environ.get(\"GRADIENT_WORKSPACE_ID\", None):\n",
        "    os.environ[\"GRADIENT_WORKSPACE_ID\"] = getpass(\"gradient.ai workspace id:\")"
      ],
      "metadata": {
        "id": "_uXMagXufVh7"
      },
      "execution_count": null,
      "outputs": []
    },
    {
      "cell_type": "code",
      "source": [
        "from langchain.embeddings import GradientEmbeddings\n",
        "\n",
        "embeddings = GradientEmbeddings(model=\"bge-large\")"
      ],
      "metadata": {
        "id": "x6VAo6zojd5u"
      },
      "execution_count": null,
      "outputs": []
    },
    {
      "cell_type": "markdown",
      "source": [
        "Let's try it out!"
      ],
      "metadata": {
        "id": "yN49ukwK8JJc"
      }
    },
    {
      "cell_type": "code",
      "source": [
        "len(embeddings.embed_query(\"Hello, is it me you're looking for?\"))"
      ],
      "metadata": {
        "colab": {
          "base_uri": "https://localhost:8080/"
        },
        "id": "FQKhFSGV78I1",
        "outputId": "0af23833-c1b6-4b30-dbfa-915822430009"
      },
      "execution_count": null,
      "outputs": [
        {
          "output_type": "execute_result",
          "data": {
            "text/plain": [
              "1024"
            ]
          },
          "metadata": {},
          "execution_count": 189
        }
      ]
    },
    {
      "cell_type": "markdown",
      "source": [
        "## Creating a RAG Pipeline Powered by Gradient and LangChain\n",
        "\n",
        "Now we can build our RAG system with LangChain!\n",
        "\n",
        "First thing we'll do, however, is make sure our model works!\n",
        "\n"
      ],
      "metadata": {
        "id": "AoMpdH1M6lHi"
      }
    },
    {
      "cell_type": "markdown",
      "source": [
        "Let's create our Gradient client and list our models using their [Python SDK](https://docs.gradient.ai/docs/sdk-quickstart).\n",
        "\n",
        "We can use this to find our fine-tuned model!"
      ],
      "metadata": {
        "id": "LNLntI768T-a"
      }
    },
    {
      "cell_type": "code",
      "source": [
        "import gradientai\n",
        "\n",
        "client = gradientai.Gradient()\n",
        "\n",
        "models = client.list_models(only_base=False)\n",
        "for model in models:\n",
        "  if \"adapter\" in model.id:\n",
        "    print(model.id, model.name)"
      ],
      "metadata": {
        "colab": {
          "base_uri": "https://localhost:8080/"
        },
        "id": "8BoyuqUqfbDP",
        "outputId": "f950bd56-a92b-4a58-8a27-d186f528f06b"
      },
      "execution_count": null,
      "outputs": [
        {
          "output_type": "stream",
          "name": "stdout",
          "text": [
            "f90b83dd-7448-42c4-afe8-46ca257e3221_model_adapter instruct_tune\n",
            "a9ddb8f3-3665-4a6c-80f1-343781e0c4bb_model_adapter instruct_tune\n",
            "9fd56e25-9e97-41fd-bfb6-d39f89af2a37_model_adapter instruct_tune\n",
            "4d838eac-d40f-4cbc-8ca1-58a397a1de84_model_adapter instruct_tune\n"
          ]
        }
      ]
    },
    {
      "cell_type": "markdown",
      "source": [
        "Now we can load our `GradientLLM` - it's really that easy!\n",
        "\n",
        "We can pass in additional parameters like how many tokens to generate, and more!\n",
        "\n",
        "Check it out [here](https://github.com/langchain-ai/langchain/blob/master/libs/langchain/langchain/llms/gradient_ai.py)!"
      ],
      "metadata": {
        "id": "1aFrlHR_9eC4"
      }
    },
    {
      "cell_type": "code",
      "source": [
        "from langchain.llms import GradientLLM\n",
        "\n",
        "llm = GradientLLM(\n",
        "    model=models[-1].id,\n",
        "    model_kwargs=dict(max_generated_token_count=128),\n",
        ")"
      ],
      "metadata": {
        "id": "tb0zFJ25fo03"
      },
      "execution_count": null,
      "outputs": []
    },
    {
      "cell_type": "markdown",
      "source": [
        "We're just going to reproduce our training template here - and see what this model can do!"
      ],
      "metadata": {
        "id": "ZlGvXTOv-a6D"
      }
    },
    {
      "cell_type": "code",
      "source": [
        "from langchain.prompts import PromptTemplate\n",
        "\n",
        "template = \"\"\"\"\\\n",
        "### Instruction:\n",
        "Below is an instruction that describes a task. Write a response that appropriately completes the request.\n",
        "{input}\n",
        "\n",
        "### Response:\n",
        "\"\"\"\n",
        "\n",
        "prompt = PromptTemplate(template=template, input_variables=[\"input\"])"
      ],
      "metadata": {
        "id": "b0f1m3E0f5Br"
      },
      "execution_count": null,
      "outputs": []
    },
    {
      "cell_type": "markdown",
      "source": [
        "We'll create a simple `LLMChain` that chains our prompt into our LLM."
      ],
      "metadata": {
        "id": "GVznqI6o_tFK"
      }
    },
    {
      "cell_type": "code",
      "source": [
        "from langchain.chains import LLMChain\n",
        "\n",
        "llm_chain = LLMChain(prompt=prompt, llm=llm)"
      ],
      "metadata": {
        "id": "i6rmXIIggOEY"
      },
      "execution_count": null,
      "outputs": []
    },
    {
      "cell_type": "markdown",
      "source": [
        "Let's ask a simple question - and see how it fares."
      ],
      "metadata": {
        "id": "hXucYLLw_8Cq"
      }
    },
    {
      "cell_type": "code",
      "source": [
        "input = \"What is the opposite of Gradient Descent?\"\n",
        "\n",
        "llm_chain.run(input=input)"
      ],
      "metadata": {
        "colab": {
          "base_uri": "https://localhost:8080/",
          "height": 35
        },
        "id": "-yKUwKZYgPjh",
        "outputId": "1fa9b153-0330-41a7-8580-1bf1b008b996"
      },
      "execution_count": null,
      "outputs": [
        {
          "output_type": "execute_result",
          "data": {
            "text/plain": [
              "'The opposite of Gradient Descent is called Stochastic Gradient Descent.'"
            ],
            "application/vnd.google.colaboratory.intrinsic+json": {
              "type": "string"
            }
          },
          "metadata": {},
          "execution_count": 209
        }
      ]
    },
    {
      "cell_type": "markdown",
      "source": [
        "Not a very satisfying answer - it's clear our model requires additional context to get this right.\n",
        "\n",
        "Let's build a simple RAG prompt and see how it does."
      ],
      "metadata": {
        "id": "uJiwnEVk__C8"
      }
    },
    {
      "cell_type": "code",
      "source": [
        "template = \"\"\"\"\\\n",
        "### Instruction:\n",
        "Below is an instruction that describes a task. Write a response that appropriately completes the request.\n",
        "\n",
        "Based on the provided context, please answer the provided question. You can only use the provided context to answer the question.\n",
        "If you do not know the answer - please respond with \"I don't know\".\n",
        "\n",
        "Context:\n",
        "{context}\n",
        "\n",
        "Question:\n",
        "{question}\n",
        "\n",
        "### Response:\n",
        "\"\"\"\n",
        "\n",
        "rag_prompt = PromptTemplate(template=template, input_variables=[\"context\", \"question\"])"
      ],
      "metadata": {
        "id": "z5iKuDHghks-"
      },
      "execution_count": null,
      "outputs": []
    },
    {
      "cell_type": "markdown",
      "source": [
        "We'll create our LLM chain using LangChain's [LCEL](https://python.langchain.com/docs/expression_language/) this time - which is a wonderful way to build chains!"
      ],
      "metadata": {
        "id": "-hdB8cN-AHV2"
      }
    },
    {
      "cell_type": "code",
      "source": [
        "llm_chain = rag_prompt | llm"
      ],
      "metadata": {
        "id": "ripwXzfchmWx"
      },
      "execution_count": null,
      "outputs": []
    },
    {
      "cell_type": "markdown",
      "source": [
        "Now we can ask questions and have them be grounded by our context."
      ],
      "metadata": {
        "id": "E6q0J_crASNr"
      }
    },
    {
      "cell_type": "code",
      "source": [
        "question = \"What is the opposite of Gradient Descent?\"\n",
        "context = \"In mathematics, gradient descent (also often called steepest descent) is a first-order iterative optimization algorithm for finding a local minimum of a differentiable function. The idea is to take repeated steps in the opposite direction of the gradient (or approximate gradient) of the function at the current point, because this is the direction of steepest descent. Conversely, stepping in the direction of the gradient will lead to a local maximum of that function; the procedure is then known as gradient ascent. It is particularly useful in machine learning for minimizing the cost or loss function.[1] Gradient descent should not be confused with local search algorithms, although both are iterative methods for optimization.\"\n",
        "\n",
        "llm_chain.invoke({\"question\" :question, \"context\" : context})"
      ],
      "metadata": {
        "colab": {
          "base_uri": "https://localhost:8080/",
          "height": 35
        },
        "id": "hSVgDM0vhnLU",
        "outputId": "30e8e4e5-b196-4b42-eaf1-f40afd2f4bf9"
      },
      "execution_count": null,
      "outputs": [
        {
          "output_type": "execute_result",
          "data": {
            "text/plain": [
              "'Steepest Ascent'"
            ],
            "application/vnd.google.colaboratory.intrinsic+json": {
              "type": "string"
            }
          },
          "metadata": {},
          "execution_count": 215
        }
      ]
    },
    {
      "cell_type": "markdown",
      "source": [
        "Let's ask a question about something that it should not know the answer to."
      ],
      "metadata": {
        "id": "7ZpPp7n5A9gi"
      }
    },
    {
      "cell_type": "code",
      "source": [
        "question = \"What is the maximum airspeed velocity of an unladen swallow?\"\n",
        "context = \"In mathematics, gradient descent (also often called steepest descent) is a first-order iterative optimization algorithm for finding a local minimum of a differentiable function. The idea is to take repeated steps in the opposite direction of the gradient (or approximate gradient) of the function at the current point, because this is the direction of steepest descent. Conversely, stepping in the direction of the gradient will lead to a local maximum of that function; the procedure is then known as gradient ascent. It is particularly useful in machine learning for minimizing the cost or loss function.[1] Gradient descent should not be confused with local search algorithms, although both are iterative methods for optimization.\"\n",
        "\n",
        "llm_chain.invoke({\"question\" :question, \"context\" : context})"
      ],
      "metadata": {
        "colab": {
          "base_uri": "https://localhost:8080/",
          "height": 35
        },
        "id": "DJb8q80QiKFA",
        "outputId": "ab204122-55df-4bc5-ab97-ee8107ba98d0"
      },
      "execution_count": null,
      "outputs": [
        {
          "output_type": "execute_result",
          "data": {
            "text/plain": [
              "\"I don't know.\""
            ],
            "application/vnd.google.colaboratory.intrinsic+json": {
              "type": "string"
            }
          },
          "metadata": {},
          "execution_count": 216
        }
      ]
    },
    {
      "cell_type": "markdown",
      "source": [
        "Great!"
      ],
      "metadata": {
        "id": "G7ONY1SeBC2E"
      }
    },
    {
      "cell_type": "markdown",
      "source": [
        "### Creating a RAG Chain in LangChain\n",
        "\n",
        "Let's do the thing!\n",
        "\n",
        "The first thing we'll do is grab some documents to use as our index from Arxiv!\n",
        "\n",
        "The second thing we'll do is build a retrieval pipeline with FAISS and our Gradient-hosted embeddings model."
      ],
      "metadata": {
        "id": "Yg4EhE83BEK1"
      }
    },
    {
      "cell_type": "code",
      "source": [
        "!pip install faiss-cpu arxiv pymupdf -qU"
      ],
      "metadata": {
        "colab": {
          "base_uri": "https://localhost:8080/"
        },
        "id": "gEDD8Q5sjb2i",
        "outputId": "aa99ce43-9738-4af6-b1b7-d16fc17b6b9b"
      },
      "execution_count": null,
      "outputs": [
        {
          "output_type": "stream",
          "name": "stdout",
          "text": [
            "Collecting faiss-cpu\n",
            "  Downloading faiss_cpu-1.7.4-cp310-cp310-manylinux_2_17_x86_64.manylinux2014_x86_64.whl (17.6 MB)\n",
            "\u001b[2K     \u001b[90m━━━━━━━━━━━━━━━━━━━━━━━━━━━━━━━━━━━━━━━━\u001b[0m \u001b[32m17.6/17.6 MB\u001b[0m \u001b[31m28.5 MB/s\u001b[0m eta \u001b[36m0:00:00\u001b[0m\n",
            "\u001b[?25hInstalling collected packages: faiss-cpu\n",
            "Successfully installed faiss-cpu-1.7.4\n"
          ]
        }
      ]
    },
    {
      "cell_type": "markdown",
      "source": [
        "We'll load, and then split, 5 of the most relevant papers to the query \"Gradient Descent\"."
      ],
      "metadata": {
        "id": "Fr3_tjemB2Zv"
      }
    },
    {
      "cell_type": "code",
      "source": [
        "from langchain.document_loaders import ArxivLoader\n",
        "\n",
        "docs = ArxivLoader(query=\"Gradient Descent\", load_max_docs=5).load()"
      ],
      "metadata": {
        "id": "cJDA1OQxj7Qh"
      },
      "execution_count": null,
      "outputs": []
    },
    {
      "cell_type": "code",
      "source": [
        "from langchain.text_splitter import RecursiveCharacterTextSplitter\n",
        "\n",
        "text_splitter = RecursiveCharacterTextSplitter(\n",
        "    chunk_size = 1250,\n",
        "    chunk_overlap = 100,\n",
        "    length_function = len,\n",
        "    is_separator_regex = False\n",
        ")"
      ],
      "metadata": {
        "id": "FHEkjxQAk8v6"
      },
      "execution_count": null,
      "outputs": []
    },
    {
      "cell_type": "code",
      "source": [
        "split_docs = text_splitter.split_documents(docs)"
      ],
      "metadata": {
        "id": "RjBKsFYZlQAx"
      },
      "execution_count": null,
      "outputs": []
    },
    {
      "cell_type": "markdown",
      "source": [
        "Now we can create our FAISS vectorstore from those split documents.\n",
        "\n",
        "The Gradient embeddings API can currently only handle 100 items at a time, so we'll batch our embeddings to accommodate that."
      ],
      "metadata": {
        "id": "HSTFGQmeB7og"
      }
    },
    {
      "cell_type": "code",
      "source": [
        "len(split_docs)"
      ],
      "metadata": {
        "colab": {
          "base_uri": "https://localhost:8080/"
        },
        "id": "dqUtpa8jC9oi",
        "outputId": "66d2ce0e-389c-46b4-c47e-d46ea57c7b6f"
      },
      "execution_count": null,
      "outputs": [
        {
          "output_type": "execute_result",
          "data": {
            "text/plain": [
              "227"
            ]
          },
          "metadata": {},
          "execution_count": 221
        }
      ]
    },
    {
      "cell_type": "code",
      "source": [
        "from langchain.vectorstores import FAISS\n",
        "\n",
        "vectorstore = FAISS.from_documents(split_docs[:100], embedding=embeddings)\n",
        "vectorstore.add_documents(split_docs[100:200])\n",
        "vectorstore.add_documents(split_docs[200:])\n",
        "\n",
        "print(\"Completed\")"
      ],
      "metadata": {
        "colab": {
          "base_uri": "https://localhost:8080/"
        },
        "id": "Msc1OsPykGV8",
        "outputId": "5f2813bd-b196-4e65-95db-fc391c61f632"
      },
      "execution_count": null,
      "outputs": [
        {
          "output_type": "stream",
          "name": "stdout",
          "text": [
            "Completed\n"
          ]
        }
      ]
    },
    {
      "cell_type": "markdown",
      "source": [
        "Now we can create our retriever!"
      ],
      "metadata": {
        "id": "TPVJYfBjDFjN"
      }
    },
    {
      "cell_type": "code",
      "source": [
        "retriever = vectorstore.as_retriever()"
      ],
      "metadata": {
        "id": "CzKQRfkplXvh"
      },
      "execution_count": null,
      "outputs": []
    },
    {
      "cell_type": "markdown",
      "source": [
        "All that's left now is to create our RAG chain!"
      ],
      "metadata": {
        "id": "qm62abqWDIFJ"
      }
    },
    {
      "cell_type": "code",
      "source": [
        "from langchain.schema.output_parser import StrOutputParser\n",
        "from langchain.schema.runnable import RunnablePassthrough\n",
        "\n",
        "rag_chain = (\n",
        "    {\n",
        "        \"context\" : retriever, \"question\" : RunnablePassthrough()\n",
        "    }\n",
        "    | rag_prompt\n",
        "    | llm\n",
        "    | StrOutputParser()\n",
        ")"
      ],
      "metadata": {
        "id": "WrHWmyTxkgJW"
      },
      "execution_count": null,
      "outputs": []
    },
    {
      "cell_type": "code",
      "source": [
        "rag_chain.invoke(\"What is Gradient Descent?\")"
      ],
      "metadata": {
        "colab": {
          "base_uri": "https://localhost:8080/",
          "height": 53
        },
        "id": "zoV2LW3YkjH3",
        "outputId": "f0de39b8-44cd-4908-9b4c-e0893fceedc5"
      },
      "execution_count": null,
      "outputs": [
        {
          "output_type": "execute_result",
          "data": {
            "text/plain": [
              "'Gradient descent is a method for minimizing a function by iteratively adjusting the parameters of a function to reduce the value of the function.'"
            ],
            "application/vnd.google.colaboratory.intrinsic+json": {
              "type": "string"
            }
          },
          "metadata": {},
          "execution_count": 228
        }
      ]
    },
    {
      "cell_type": "code",
      "source": [
        "rag_chain.invoke(\"Is it mandatory to learn gradient descent in detail to build large language model applications?\")"
      ],
      "metadata": {
        "colab": {
          "base_uri": "https://localhost:8080/",
          "height": 53
        },
        "id": "yh-jzFlpmlVU",
        "outputId": "5e253455-386f-4145-9977-b23a3cae2c28"
      },
      "execution_count": null,
      "outputs": [
        {
          "output_type": "execute_result",
          "data": {
            "text/plain": [
              "'No, it is not mandatory to learn gradient descent in detail to build large language model applications.'"
            ],
            "application/vnd.google.colaboratory.intrinsic+json": {
              "type": "string"
            }
          },
          "metadata": {},
          "execution_count": 229
        }
      ]
    },
    {
      "cell_type": "code",
      "source": [
        "rag_chain.invoke(\"What do I need to learn about gradient descent to build large language model applciations?\")"
      ],
      "metadata": {
        "colab": {
          "base_uri": "https://localhost:8080/",
          "height": 53
        },
        "id": "e_1ojZv6mmqF",
        "outputId": "5a680448-c33a-467d-e29a-0df21b0db1e6"
      },
      "execution_count": null,
      "outputs": [
        {
          "output_type": "execute_result",
          "data": {
            "text/plain": [
              "'You need to learn about gradient descent, its applications, and its limitations.'"
            ],
            "application/vnd.google.colaboratory.intrinsic+json": {
              "type": "string"
            }
          },
          "metadata": {},
          "execution_count": 230
        }
      ]
    }
  ]
}